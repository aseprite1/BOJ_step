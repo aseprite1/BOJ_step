{
  "cells": [
    {
      "cell_type": "markdown",
      "metadata": {
        "id": "view-in-github",
        "colab_type": "text"
      },
      "source": [
        "<a href=\"https://colab.research.google.com/github/aseprite1/BOJ_step/blob/main/09_2%EC%B0%A8%EC%9B%90_%EB%B0%B0%EC%97%B4.ipynb\" target=\"_parent\"><img src=\"https://colab.research.google.com/assets/colab-badge.svg\" alt=\"Open In Colab\"/></a>"
      ]
    },
    {
      "cell_type": "markdown",
      "metadata": {
        "id": "9WcT6kOaXKFn"
      },
      "source": [
        "# **[09](https://www.acmicpc.net/step/2)** :: 2차원 배열"
      ]
    },
    {
      "cell_type": "markdown",
      "metadata": {
        "id": "TbuWWgn6XKFq"
      },
      "source": [
        "### [2738](https://www.acmicpc.net/problem/2738) 행렬 덧셈"
      ]
    },
    {
      "cell_type": "code",
      "metadata": {
        "colab": {
          "base_uri": "https://localhost:8080/"
        },
        "id": "teK01ucdXKFq",
        "outputId": "7ec05f23-a150-454e-dc19-2e23100d1d4a"
      },
      "source": [
        "k,n=map(int,input().split())\n",
        "l=[]\n",
        "for _ in range(k):\n",
        "\tl.append(list(map(int,input().split())))\n",
        "for i in range(k):\n",
        "\tm=list(map(int,input().split()))\n",
        "\tfor p in range(n):\n",
        "\t\tl[i][p]+=m[p]\n",
        "\tprint(*l[i])"
      ],
      "outputs": [
        {
          "output_type": "stream",
          "name": "stdout",
          "text": [
            "3 3\n",
            "1 1 1\n",
            "2 2 2\n",
            "0 1 0\n",
            "3 3 3\n",
            "4 4 4\n",
            "4 4 4\n",
            "6 6 6\n",
            "5 5 10\n",
            "5 6 10\n"
          ]
        }
      ],
      "execution_count": 1
    },
    {
      "cell_type": "markdown",
      "metadata": {
        "id": "UGSpQJbkXKFr"
      },
      "source": [
        "### [2566](https://www.acmicpc.net/problem/2566) 최댓값"
      ]
    },
    {
      "cell_type": "code",
      "metadata": {
        "colab": {
          "base_uri": "https://localhost:8080/"
        },
        "id": "S7Mh2KffXKFr",
        "outputId": "71976970-fbfb-458e-ba38-55c7d7788e06"
      },
      "source": [
        "L=[]\n",
        "for _ in range(9):\n",
        "    l=list(map(int,input().split()))\n",
        "    L+=l\n",
        "k=L.index(max(L))\n",
        "print(L[k])\n",
        "print(k//9+1,k%9+1)"
      ],
      "outputs": [
        {
          "output_type": "stream",
          "name": "stdout",
          "text": [
            "3 23 85 34 17 74 25 52 65\n",
            "10 7 39 42 88 52 14 72 63\n",
            "87 42 18 78 53 45 18 84 53\n",
            "34 28 64 85 12 16 75 36 55\n",
            "21 77 45 35 28 75 90 76 1\n",
            "25 87 65 15 28 11 37 28 74\n",
            "65 27 75 41 7 89 78 64 39\n",
            "47 47 70 45 23 65 3 41 44\n",
            "87 13 82 38 31 12 29 29 80\n",
            "90\n",
            "5 7\n"
          ]
        }
      ],
      "execution_count": 2
    },
    {
      "cell_type": "markdown",
      "metadata": {
        "id": "lYdWNYY-XKFs"
      },
      "source": [
        "### [2563](https://www.acmicpc.net/problem/2563) 색종이"
      ]
    },
    {
      "cell_type": "code",
      "metadata": {
        "colab": {
          "base_uri": "https://localhost:8080/"
        },
        "id": "r2q8KayBXKFs",
        "outputId": "07d64823-7aa6-4979-8ed4-34f3aad18d79"
      },
      "source": [
        "r=range\n",
        "p=[[0for _ in r(100)]for i in r(100)]\n",
        "for _ in r(int(input())):\n",
        "\tx,y=map(int,input().split())\n",
        "\tfor i in r(x,x+10):\n",
        "\t\tfor k in r(y,y+10):p[i][k]=1\n",
        "print(sum(list(map(sum,p))))"
      ],
      "outputs": [
        {
          "output_type": "stream",
          "name": "stdout",
          "text": [
            "3\n",
            "3 7\n",
            "15 7\n",
            "5 2\n",
            "260\n"
          ]
        }
      ],
      "execution_count": 12
    }
  ],
  "metadata": {
    "anaconda-cloud": {},
    "kernelspec": {
      "display_name": "Python 3",
      "language": "python",
      "name": "python3"
    },
    "language_info": {
      "codemirror_mode": {
        "name": "ipython",
        "version": 3
      },
      "file_extension": ".py",
      "mimetype": "text/x-python",
      "name": "python",
      "nbconvert_exporter": "python",
      "pygments_lexer": "ipython3",
      "version": "3.6.1"
    },
    "colab": {
      "provenance": [],
      "include_colab_link": true
    }
  },
  "nbformat": 4,
  "nbformat_minor": 0
}