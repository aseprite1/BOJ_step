{
  "nbformat": 4,
  "nbformat_minor": 0,
  "metadata": {
    "colab": {
      "provenance": [],
      "authorship_tag": "ABX9TyNg3Fi/Zq06sBLckVM4nU6f",
      "include_colab_link": true
    },
    "kernelspec": {
      "name": "python3",
      "display_name": "Python 3"
    },
    "language_info": {
      "name": "python"
    }
  },
  "cells": [
    {
      "cell_type": "markdown",
      "metadata": {
        "id": "view-in-github",
        "colab_type": "text"
      },
      "source": [
        "<a href=\"https://colab.research.google.com/github/aseprite1/BOJ_step/blob/main/02_%EC%A1%B0%EA%B1%B4%EB%AC%B8.ipynb\" target=\"_parent\"><img src=\"https://colab.research.google.com/assets/colab-badge.svg\" alt=\"Open In Colab\"/></a>"
      ]
    },
    {
      "cell_type": "markdown",
      "source": [
        "# **02** :: 조건문"
      ],
      "metadata": {
        "id": "sN757eA0B_Xy"
      }
    },
    {
      "cell_type": "markdown",
      "source": [
        "###1330\t 두 수 비교하기"
      ],
      "metadata": {
        "id": "Vjf9Oys-ClS-"
      }
    },
    {
      "cell_type": "code",
      "source": [
        "a,b = map(int,input().split())\n",
        "if (a<b):\n",
        "    print(\"<\")\n",
        "if (a>b):\n",
        "    print(\">\")\n",
        "if (a==b):\n",
        "    print(\"==\")"
      ],
      "metadata": {
        "colab": {
          "base_uri": "https://localhost:8080/"
        },
        "id": "HkLl_rFjClZO",
        "outputId": "17faae6f-13cf-4dba-ef3e-49d38417b18c"
      },
      "execution_count": 2,
      "outputs": [
        {
          "output_type": "stream",
          "name": "stdout",
          "text": [
            "10 10\n",
            "==\n"
          ]
        }
      ]
    },
    {
      "cell_type": "markdown",
      "source": [
        "###9498\t 시험 성적"
      ],
      "metadata": {
        "id": "0iKoOhp3ClkO"
      }
    },
    {
      "cell_type": "code",
      "source": [
        "n= int(input())\n",
        "if n>=90:\n",
        "    print(\"A\")\n",
        "elif n>=80:\n",
        "    print(\"B\")\n",
        "elif n>=70:\n",
        "    print(\"C\")\n",
        "elif n>=60:\n",
        "    print(\"D\")\n",
        "else:\n",
        "    print(\"F\")"
      ],
      "metadata": {
        "colab": {
          "base_uri": "https://localhost:8080/"
        },
        "id": "1TuoZA2TClqm",
        "outputId": "70dfb47c-556f-4ea3-93db-183898906e0c"
      },
      "execution_count": 3,
      "outputs": [
        {
          "output_type": "stream",
          "name": "stdout",
          "text": [
            "87\n",
            "B\n"
          ]
        }
      ]
    },
    {
      "cell_type": "markdown",
      "source": [
        "### 2753\t 윤년"
      ],
      "metadata": {
        "id": "N1wvHy6JClvt"
      }
    },
    {
      "cell_type": "code",
      "source": [
        "a = int(input())\n",
        "b = a%4\n",
        "c = a%100\n",
        "d = a%400\n",
        "if d==0 :\n",
        "    print(\"1\")\n",
        "elif b==0 and c!=0:\n",
        "    print(\"1\")\n",
        "else:\n",
        "    print(\"0\")"
      ],
      "metadata": {
        "colab": {
          "base_uri": "https://localhost:8080/"
        },
        "id": "C0hMsEbKCl2f",
        "outputId": "9aded3d1-da6a-449f-eb4f-e52db65da220"
      },
      "execution_count": 4,
      "outputs": [
        {
          "output_type": "stream",
          "name": "stdout",
          "text": [
            "2022\n",
            "0\n"
          ]
        }
      ]
    },
    {
      "cell_type": "markdown",
      "source": [
        "###\t14681\t 사분면 고르기\n"
      ],
      "metadata": {
        "id": "4-ixlxEGCl7-"
      }
    },
    {
      "cell_type": "code",
      "source": [
        "a=int(input())\n",
        "b=int(input())\n",
        "if a>0:\n",
        "    if b>0:\n",
        "        print(1)\n",
        "    else:\n",
        "        print(4)\n",
        "else:\n",
        "    if b>0:\n",
        "        print(2)\n",
        "    else:\n",
        "        print(3)"
      ],
      "metadata": {
        "colab": {
          "base_uri": "https://localhost:8080/"
        },
        "id": "ZWQAYCleCmBe",
        "outputId": "f6bbb4b8-b808-481f-dbbb-48e8d533b7a5"
      },
      "execution_count": 6,
      "outputs": [
        {
          "output_type": "stream",
          "name": "stdout",
          "text": [
            "1\n",
            "-2\n",
            "4\n"
          ]
        }
      ]
    },
    {
      "cell_type": "markdown",
      "source": [
        "###\t2884\t 알람 시계"
      ],
      "metadata": {
        "id": "XOCgstolCmI-"
      }
    },
    {
      "cell_type": "code",
      "source": [
        "h,m=map(int,input().split())\n",
        "if m>=45:\n",
        "\tprint(h,m-45)\n",
        "else:\n",
        "\tm+=15\n",
        "\tif h!=0:\n",
        "\t\th-=1\n",
        "\telse:\n",
        "\t\th=23\n",
        "\tprint(h,m)"
      ],
      "metadata": {
        "colab": {
          "base_uri": "https://localhost:8080/"
        },
        "id": "qpFf0S3MCmP1",
        "outputId": "b103b3d5-a018-4269-e7cf-e0b7c4df91e7"
      },
      "execution_count": 7,
      "outputs": [
        {
          "output_type": "stream",
          "name": "stdout",
          "text": [
            "0 30\n",
            "23 45\n"
          ]
        }
      ]
    },
    {
      "cell_type": "markdown",
      "source": [
        "###2525\t 오븐 시계"
      ],
      "metadata": {
        "id": "OO0fvY2JCnbG"
      }
    },
    {
      "cell_type": "code",
      "source": [
        "a,b = map(int,input().split())\n",
        "c = int(input())\n",
        "a = a + c//60\n",
        "b = b + c%60\n",
        "if b>=60:\n",
        "\ta+=1\n",
        "\tb-=60\n",
        "print (a%24,b)"
      ],
      "metadata": {
        "colab": {
          "base_uri": "https://localhost:8080/"
        },
        "id": "jaNs8Ct6CngO",
        "outputId": "5446f68c-7730-48f2-88fa-11eaf1b82e2e"
      },
      "execution_count": 9,
      "outputs": [
        {
          "output_type": "stream",
          "name": "stdout",
          "text": [
            "14 30\n",
            "80\n",
            "15 50\n"
          ]
        }
      ]
    },
    {
      "cell_type": "markdown",
      "source": [
        "###2480\t 주사위 세개"
      ],
      "metadata": {
        "id": "lZeYiPzBCnk2"
      }
    },
    {
      "cell_type": "code",
      "source": [
        "a,b,c=map(int,input().split())\n",
        "if(a==b and b==c):\n",
        "  print(10000+1000*a)\n",
        "elif(a==b or a==c):\n",
        "  print(1000+100*a)\n",
        "elif(b==c):\n",
        "  print(1000+100*b)\n",
        "else:\n",
        "  print(100*max(a,b,c))"
      ],
      "metadata": {
        "colab": {
          "base_uri": "https://localhost:8080/"
        },
        "id": "_YW8KQRNCnq_",
        "outputId": "01f1851f-8ea6-410e-da62-0ea52378500a"
      },
      "execution_count": 10,
      "outputs": [
        {
          "output_type": "stream",
          "name": "stdout",
          "text": [
            "6 2 5\n",
            "600\n"
          ]
        }
      ]
    }
  ]
}