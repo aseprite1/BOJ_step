{
  "nbformat": 4,
  "nbformat_minor": 0,
  "metadata": {
    "colab": {
      "provenance": [],
      "authorship_tag": "ABX9TyOI16lPg3mZs6ZqhEbfH9wP",
      "include_colab_link": true
    },
    "kernelspec": {
      "name": "python3",
      "display_name": "Python 3"
    },
    "language_info": {
      "name": "python"
    }
  },
  "cells": [
    {
      "cell_type": "markdown",
      "metadata": {
        "id": "view-in-github",
        "colab_type": "text"
      },
      "source": [
        "<a href=\"https://colab.research.google.com/github/aseprite1/BOJ_step/blob/main/easy_boj_formatter.ipynb\" target=\"_parent\"><img src=\"https://colab.research.google.com/assets/colab-badge.svg\" alt=\"Open In Colab\"/></a>"
      ]
    },
    {
      "cell_type": "markdown",
      "source": [
        "초기 설정\n"
      ],
      "metadata": {
        "id": "e3ZBf2SjXOnf"
      }
    },
    {
      "cell_type": "code",
      "source": [
        "!pip install ipynb-py-convert\n",
        "!pip install selenium\n",
        "!apt-get update\n",
        "!apt install chromium-chromedriver\n",
        "!cp /usr/lib/chromium-browser/chromedriver /usr/bin"
      ],
      "metadata": {
        "id": "9HNt3QxxVf-7"
      },
      "execution_count": null,
      "outputs": []
    },
    {
      "cell_type": "code",
      "source": [
        "\n",
        "import time\n",
        "import os\n",
        "from selenium import webdriver\n",
        "from selenium.webdriver.common.by import By\n",
        "\n",
        "options = webdriver.ChromeOptions()\n",
        "\n",
        "options.add_argument('--headless')        # cHead-less 설정\n",
        "options.add_argument('--no-sandbox')\n",
        "options.add_argument('--disable-dev-shm-usage')\n",
        "\n",
        "driver = webdriver.Chrome('chromedriver', options=options)\n",
        "\n",
        "print(\"-----CHOOSE LEVEL-----\",\"info : acmicpc.net/step\",\"Choose level\",sep='\\n')\n",
        "\n",
        "level=input()\n",
        "try:\n",
        "  if int(level)>54:\n",
        "    exit(print(\"WRONG LEVEL!!\"))\n",
        "except:\n",
        "  print(\"Please enter a number\")\n",
        "  level=input()\n",
        "\n",
        "url = \"https://www.acmicpc.net/step\"\n",
        "driver.get(url)\n",
        "\n",
        "# 단계별 사이트 접속\n",
        "site_url = \"/html/body/div[2]/div[2]/div[5]/div/div/table/tbody/tr[\"+ level +\"]/td[2]/a\"\n",
        "site=driver.find_element(By.XPATH, site_url) \n",
        "level_name = site.text\n",
        "site.send_keys('\\n')\n",
        "\n",
        "\n",
        "step_url = driver.current_url\n",
        "problem_list=[]\n",
        "table = driver.find_element(By.ID, \"problemset\")\n",
        "tbody =table.find_element(By.TAG_NAME, \"tbody\")\n",
        "rows = tbody.find_elements(By.TAG_NAME, \"tr\")\n",
        "\n",
        "# 문제의 번호, 제목 가져오기\n",
        "for idx in range(0,len(rows),2):\n",
        "  problem=(rows[idx].find_elements(By.TAG_NAME, \"td\")[1].text,rows[idx].find_elements(By.TAG_NAME, \"td\")[2].text)\n",
        "  s=\"### [\" + problem[0] + \"](https://www.acmicpc.net/problem/\"  +  problem[0] +  \") \"  +  problem[1]\n",
        "  problem_list.append(\"# %%\\n'''\\n\" + s + \"\\n\" + \"'''\\n\\n# %%\\n\" + \"#PASTE YOUR CODE HERE\" + \"\\n\\n\")\n",
        "\n",
        "if len(level)==1:\n",
        "  level=\"0\"+level\n",
        "\n",
        "# 머릿말 설정\n",
        "text_py=\"# %%\\n'''\\n# **[\" + level + \"](\" + step_url + \")** :: \" + level_name + \"\\n'''\\n\\n\"\n",
        "text_py = text_py + \"\".join(problem_list)\n",
        "\n",
        "# py 파일생성\n",
        "file_name = level + \"_\" + level_name+\".py\"\n",
        "f=open(file_name, 'w')\n",
        "f.write(text_py)\n",
        "f.close()\n",
        "file_name=file_name[:-3]\n",
        "print(\"NEW FILE : \\\"\"+file_name+\".ipynb\\\"\")\n",
        "os.environ['FILE_NAME'] = file_name\n",
        "\n",
        "# py -> ipynb 변환 후 py 삭제\n",
        "!ipynb-py-convert \"$FILE_NAME.py\" \"$FILE_NAME.ipynb\"\n",
        "!rm \"$FILE_NAME.py\"\n",
        "\n",
        "driver.close()\n",
        "\n",
        "# #colab 사용 시 우측 폴더 아이콘  content에서 결과물 다운로드하면 됨"
      ],
      "metadata": {
        "id": "NNrmPozRXAgF"
      },
      "execution_count": null,
      "outputs": []
    }
  ]
}