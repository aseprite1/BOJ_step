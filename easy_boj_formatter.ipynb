{
  "nbformat": 4,
  "nbformat_minor": 0,
  "metadata": {
    "colab": {
      "provenance": [],
      "authorship_tag": "ABX9TyNGyZPIvl2j9tcQcN34je/8",
      "include_colab_link": true
    },
    "kernelspec": {
      "name": "python3",
      "display_name": "Python 3"
    },
    "language_info": {
      "name": "python"
    }
  },
  "cells": [
    {
      "cell_type": "markdown",
      "metadata": {
        "id": "view-in-github",
        "colab_type": "text"
      },
      "source": [
        "<a href=\"https://colab.research.google.com/github/aseprite1/BOJ_step/blob/main/easy_boj_formatter.ipynb\" target=\"_parent\"><img src=\"https://colab.research.google.com/assets/colab-badge.svg\" alt=\"Open In Colab\"/></a>"
      ]
    },
    {
      "cell_type": "markdown",
      "source": [
        "초기 설정\n"
      ],
      "metadata": {
        "id": "e3ZBf2SjXOnf"
      }
    },
    {
      "cell_type": "code",
      "source": [
        "!pip install ipynb-py-convert\n",
        "!pip install selenium\n",
        "!apt-get update\n",
        "!apt install chromium-chromedriver\n",
        "!cp /usr/lib/chromium-browser/chromedriver /usr/bin"
      ],
      "metadata": {
        "id": "9HNt3QxxVf-7",
        "colab": {
          "base_uri": "https://localhost:8080/"
        },
        "outputId": "5e595125-270d-4013-f683-fefaec611cfd"
      },
      "execution_count": null,
      "outputs": [
        {
          "output_type": "stream",
          "name": "stdout",
          "text": [
            "Looking in indexes: https://pypi.org/simple, https://us-python.pkg.dev/colab-wheels/public/simple/\n",
            "Requirement already satisfied: ipynb-py-convert in /usr/local/lib/python3.7/dist-packages (0.4.6)\n"
          ]
        }
      ]
    },
    {
      "cell_type": "code",
      "source": [
        "import time\n",
        "import os\n",
        "from selenium import webdriver\n",
        "from selenium.webdriver.common.by import By\n",
        "options = webdriver.ChromeOptions()\n",
        "options.add_argument('--headless')        # Head-less 설정\n",
        "options.add_argument('--no-sandbox')\n",
        "options.add_argument('--disable-dev-shm-usage')\n",
        "driver = webdriver.Chrome('chromedriver', options=options)\n",
        "print(\"-----CHOOSE LEVEL-----\")\n",
        "print(\"info : acmicpc.net/step\")\n",
        "print(\"Choose level\")\n",
        "level=input()\n",
        "if int(level)>54:\n",
        "  exit(print(\"WRONG LEVEL!!\"))\n",
        "#해당 url로 이동\n",
        "url = \"https://www.acmicpc.net/step\"\n",
        "driver.get(url)\n",
        "site_url=\"/html/body/div[2]/div[2]/div[5]/div/div/table/tbody/tr[\"+level+\"]/td[2]/a\"\n",
        "site=driver.find_element(By.XPATH,site_url)\n",
        "level_name=site.text\n",
        "site.send_keys('\\n')\n",
        "#step에 맞는 site 탐색 후 클릭\n",
        "variable = driver.current_url\n",
        "problem_list=[]\n",
        "table = driver.find_element(By.ID, \"problemset\")\n",
        "tbody =table.find_element(By.TAG_NAME, \"tbody\")\n",
        "rows = tbody.find_elements(By.TAG_NAME, \"tr\")\n",
        "for idx in range(0,len(rows),2):\n",
        "  # 문제의 번호, 제목 가져오기\n",
        "  problem=(rows[idx].find_elements(By.TAG_NAME, \"td\")[1].text,rows[idx].find_elements(By.TAG_NAME, \"td\")[2].text)\n",
        "  s=\"### [\"+problem[0]+\"](https://www.acmicpc.net/problem/\"+problem[0]+\") \"+problem[1]\n",
        "  # 크롤링후 마크다운포멧 으로 변경\n",
        "  problem_list.append(\"# %%\\n\")\n",
        "  problem_list.append(\"'''\\n\"+s+\"\\n\"+\"'''\\n\\n\")\n",
        "  problem_list.append(\"# %%\\n\"+\"#PASTE YOUR CODE HERE\"+\"\\n\\n\")\n",
        "if len(level)==1:\n",
        "  level=\"0\"+level\n",
        "text_py=\"# %%\\n'''\\n# **[\"+level+\"](\"+variable+\")** :: \"+level_name+\"\\n'''\\n\\n\"\n",
        "text_py =text_py+\"\".join(problem_list)\n",
        "file_name = level+\"_\"+level_name+\".py\"\n",
        "f=open(file_name, 'w')\n",
        "f.write(text_py)\n",
        "f.close()\n",
        "file_name=file_name[:-3]\n",
        "print(\"NEW FILE : \\\"\"+file_name+\".ipynb\\\"\")\n",
        "os.environ['FILE_NAME'] = file_name\n",
        "!ipynb-py-convert \"$FILE_NAME.py\" \"$FILE_NAME.ipynb\"\n",
        "!rm \"$FILE_NAME.py\"\n",
        "# #colab 사용 시 content에서 결과물 download 하면 됨\n",
        "# 우측 폴더 아이콘 누르면 있음 \n",
        "driver.close()"
      ],
      "metadata": {
        "id": "NNrmPozRXAgF",
        "colab": {
          "base_uri": "https://localhost:8080/"
        },
        "outputId": "253b220b-dd9e-448b-8aa3-0921ecd542a1"
      },
      "execution_count": 92,
      "outputs": [
        {
          "output_type": "stream",
          "name": "stdout",
          "text": [
            "-----CHOOSE LEVEL-----\n",
            "info : acmicpc.net/step\n",
            "Choose level\n",
            "7\n",
            "NEW FILE : \"07_기본 수학 1.ipynb\"\n"
          ]
        }
      ]
    }
  ]
}