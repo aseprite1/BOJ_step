{
  "cells": [
    {
      "cell_type": "markdown",
      "metadata": {
        "id": "view-in-github",
        "colab_type": "text"
      },
      "source": [
        "<a href=\"https://colab.research.google.com/github/aseprite1/BOJ_step/blob/main/07_%E1%84%80%E1%85%B5%E1%84%87%E1%85%A9%E1%86%AB_%E1%84%89%E1%85%AE%E1%84%92%E1%85%A1%E1%86%A8_1.ipynb\" target=\"_parent\"><img src=\"https://colab.research.google.com/assets/colab-badge.svg\" alt=\"Open In Colab\"/></a>"
      ]
    },
    {
      "cell_type": "markdown",
      "metadata": {
        "id": "8RxQ94dy0BYV"
      },
      "source": [
        "# **[07](https://www.acmicpc.net/step/8)** :: 기본 수학 1"
      ]
    },
    {
      "cell_type": "markdown",
      "metadata": {
        "id": "Ch3GxPqM0BYW"
      },
      "source": [
        "### [1712](https://www.acmicpc.net/problem/1712) 손익분기점"
      ]
    },
    {
      "cell_type": "code",
      "metadata": {
        "id": "Pp9typMi0BYX",
        "colab": {
          "base_uri": "https://localhost:8080/"
        },
        "outputId": "436da346-9ee8-4f95-b2d7-9a991d993d42"
      },
      "source": [
        "a,b,c=map(int,input().split())\n",
        "if (c-b<=0):\n",
        "    exit(print(-1))\n",
        "print(a//(c-b)+1)"
      ],
      "outputs": [
        {
          "output_type": "stream",
          "name": "stdout",
          "text": [
            "1000 70 170\n",
            "11\n"
          ]
        }
      ],
      "execution_count": 1
    },
    {
      "cell_type": "markdown",
      "metadata": {
        "id": "AfeCvWnI0BYY"
      },
      "source": [
        "### [2292](https://www.acmicpc.net/problem/2292) 벌집"
      ]
    },
    {
      "cell_type": "code",
      "metadata": {
        "colab": {
          "base_uri": "https://localhost:8080/"
        },
        "id": "ZR4fWbiU0BYY",
        "outputId": "6c840aef-aea0-47b3-c277-e8d1b3ad7688"
      },
      "source": [
        "n= int(input())-1\n",
        "k = 0\n",
        "while(n>0):\n",
        "\tk+=1\n",
        "\tn-= (6*k)\n",
        "print(k+1)"
      ],
      "outputs": [
        {
          "output_type": "stream",
          "name": "stdout",
          "text": [
            "999999\n",
            "578\n"
          ]
        }
      ],
      "execution_count": null
    },
    {
      "cell_type": "markdown",
      "metadata": {
        "id": "UU2LX7dd0BYY"
      },
      "source": [
        "### [1193](https://www.acmicpc.net/problem/1193) 분수찾기"
      ]
    },
    {
      "cell_type": "code",
      "metadata": {
        "id": "I81SyU-30BYY",
        "colab": {
          "base_uri": "https://localhost:8080/"
        },
        "outputId": "7f856047-f5af-4e6d-f8a1-334307a442ed"
      },
      "source": [
        "n=int(input())\n",
        "k=0\n",
        "while 1:\n",
        "\tk+=1\n",
        "\tif n<=(k*(k+1))//2:\n",
        "\t\tn-=(k*(k+1))//2\n",
        "\t\tn*=-1\n",
        "\t\tbreak\n",
        "save=k\n",
        "c=1\n",
        "for _ in range(n):\n",
        "\tc+=1\n",
        "\tk-=1\n",
        "if save%2==1:\n",
        "\tc,k=k,c\n",
        "print(k,c,sep=\"/\")"
      ],
      "outputs": [
        {
          "output_type": "stream",
          "name": "stdout",
          "text": [
            "2022\n",
            "6/59\n"
          ]
        }
      ],
      "execution_count": 2
    },
    {
      "cell_type": "markdown",
      "metadata": {
        "id": "DfoXqIwE0BYZ"
      },
      "source": [
        "### [2869](https://www.acmicpc.net/problem/2869) 달팽이는 올라가고 싶다"
      ]
    },
    {
      "cell_type": "code",
      "metadata": {
        "colab": {
          "base_uri": "https://localhost:8080/"
        },
        "id": "vwfL6zvw0BYZ",
        "outputId": "cb8530b2-e0c9-453a-b758-b54b7c9b6bf3"
      },
      "source": [
        "a,b,v=map(int,input().split())\n",
        "k = (v-b)/(a-b)\n",
        "if k== int(k):\n",
        "\tprint(int(k))\n",
        "else:\n",
        "\tprint(int(k)+1)"
      ],
      "outputs": [
        {
          "output_type": "stream",
          "name": "stdout",
          "text": [
            "100 99 100000000\n",
            "99999901\n"
          ]
        }
      ],
      "execution_count": null
    },
    {
      "cell_type": "markdown",
      "metadata": {
        "id": "O0MOvbEe0BYZ"
      },
      "source": [
        "### [10250](https://www.acmicpc.net/problem/10250) ACM 호텔"
      ]
    },
    {
      "cell_type": "code",
      "metadata": {
        "colab": {
          "base_uri": "https://localhost:8080/"
        },
        "id": "73DUZeSX0BYa",
        "outputId": "8ab0456d-8c26-404e-dbd4-bf08960a61a6"
      },
      "source": [
        "for _ in range(int(input())):\n",
        "    h,w,n=map(int,input().split())\n",
        "    n-=1\n",
        "    print((n%h+1)*100+n//h+1)"
      ],
      "outputs": [
        {
          "output_type": "stream",
          "name": "stdout",
          "text": [
            "2\n",
            "6 12 10\n",
            "402\n",
            "30 50 72\n",
            "1203\n"
          ]
        }
      ],
      "execution_count": null
    },
    {
      "cell_type": "markdown",
      "metadata": {
        "id": "7mVmElOA0BYa"
      },
      "source": [
        "### [2775](https://www.acmicpc.net/problem/2775) 부녀회장이 될테야"
      ]
    },
    {
      "cell_type": "code",
      "metadata": {
        "id": "tBjDseal0BYa",
        "colab": {
          "base_uri": "https://localhost:8080/"
        },
        "outputId": "9f85c364-5ee0-46ff-f7db-b10e4f15783c"
      },
      "source": [
        "for _ in range(int(input())):\n",
        "\tk=int(input())\n",
        "\tn=int(input())\n",
        "\tl=[i+1 for i in range(n)]\n",
        "\tfor j in range(k):\n",
        "\t\tfor k in range(n-1,-1,-1):\n",
        "\t\t\tl[k]=sum(l[:k+1])\n",
        "\tprint(l[n-1])"
      ],
      "outputs": [
        {
          "output_type": "stream",
          "name": "stdout",
          "text": [
            "2\n",
            "7\n",
            "5\n",
            "495\n",
            "2\n",
            "3\n",
            "10\n"
          ]
        }
      ],
      "execution_count": 3
    },
    {
      "cell_type": "markdown",
      "metadata": {
        "id": "EP5nzqO80BYa"
      },
      "source": [
        "### [2839](https://www.acmicpc.net/problem/2839) 설탕 배달"
      ]
    },
    {
      "cell_type": "code",
      "metadata": {
        "colab": {
          "base_uri": "https://localhost:8080/"
        },
        "id": "enIjB_Fs0BYb",
        "outputId": "388a719d-4964-4ab9-a5e3-28128dbdebe7"
      },
      "source": [
        "n=int(input())\n",
        "ans=0\n",
        "while(n>=0):\n",
        "\tif n%5==0:\n",
        "\t\tans+=n//5\n",
        "\t\tprint(ans)\n",
        "\t\texit()\n",
        "\tn-=3\n",
        "\tans+=1\n",
        "print(-1)"
      ],
      "outputs": [
        {
          "output_type": "stream",
          "name": "stdout",
          "text": [
            "18\n",
            "4\n",
            "9\n",
            "-1\n"
          ]
        }
      ],
      "execution_count": null
    },
    {
      "cell_type": "markdown",
      "metadata": {
        "id": "MnfdUGPM0BYb"
      },
      "source": [
        "### [10757](https://www.acmicpc.net/problem/10757) 큰 수 A+B"
      ]
    },
    {
      "cell_type": "code",
      "metadata": {
        "colab": {
          "base_uri": "https://localhost:8080/"
        },
        "id": "IPlsyFVs0BYb",
        "outputId": "bb197230-fc99-4fa1-b862-5c6745a607c4"
      },
      "source": [
        "print(sum(map(int,input().split())))"
      ],
      "outputs": [
        {
          "output_type": "stream",
          "name": "stdout",
          "text": [
            "9223372036854775807 9223372036854775808\n",
            "18446744073709551615\n"
          ]
        }
      ],
      "execution_count": null
    }
  ],
  "metadata": {
    "anaconda-cloud": {},
    "kernelspec": {
      "display_name": "Python 3",
      "language": "python",
      "name": "python3"
    },
    "language_info": {
      "codemirror_mode": {
        "name": "ipython",
        "version": 3
      },
      "file_extension": ".py",
      "mimetype": "text/x-python",
      "name": "python",
      "nbconvert_exporter": "python",
      "pygments_lexer": "ipython3",
      "version": "3.6.1"
    },
    "colab": {
      "provenance": [],
      "include_colab_link": true
    }
  },
  "nbformat": 4,
  "nbformat_minor": 0
}