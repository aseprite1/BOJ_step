{
  "cells": [
    {
      "cell_type": "markdown",
      "metadata": {
        "id": "view-in-github",
        "colab_type": "text"
      },
      "source": [
        "<a href=\"https://colab.research.google.com/github/aseprite1/BOJ_step/blob/main/08_%EA%B8%B0%EB%B3%B8_%EC%88%98%ED%95%99_2.ipynb\" target=\"_parent\"><img src=\"https://colab.research.google.com/assets/colab-badge.svg\" alt=\"Open In Colab\"/></a>"
      ]
    },
    {
      "cell_type": "markdown",
      "metadata": {
        "id": "od4WpY-LtZsW"
      },
      "source": [
        "# **[08](https://www.acmicpc.net/step/10)** :: 기본 수학 2"
      ]
    },
    {
      "cell_type": "markdown",
      "metadata": {
        "id": "Slxyd8N3tZsZ"
      },
      "source": [
        "### [1978](https://www.acmicpc.net/problem/1978) 소수 찾기"
      ]
    },
    {
      "cell_type": "code",
      "execution_count": 1,
      "metadata": {
        "colab": {
          "base_uri": "https://localhost:8080/"
        },
        "id": "Jt7QbbbntZsa",
        "outputId": "0d193623-4e54-4976-f260-9189e8bceec4"
      },
      "outputs": [
        {
          "output_type": "stream",
          "name": "stdout",
          "text": [
            "4\n",
            "1 3 5 7\n",
            "3\n"
          ]
        }
      ],
      "source": [
        "input()\n",
        "l = list(map(int,input().split()))\n",
        "n = list(range(2,1001))\n",
        "k = list(range(2,1001))\n",
        "for i in k:\n",
        "\tfor j in range(2,33):\n",
        "\t\tif i > j:\n",
        "\t\t\tif i % j == 0:\n",
        "\t\t\t\tif i in n:\n",
        "\t\t\t\t\tn.remove(i)\n",
        "\t\t\t\tbreak\n",
        "cnt = 0\n",
        "for i in l:\n",
        "\tif i in n:\n",
        "\t\tcnt+=1\n",
        "print(cnt)"
      ]
    },
    {
      "cell_type": "markdown",
      "metadata": {
        "id": "cpN85YSdtZsb"
      },
      "source": [
        "### [2581](https://www.acmicpc.net/problem/2581) 소수"
      ]
    },
    {
      "cell_type": "code",
      "execution_count": 2,
      "metadata": {
        "colab": {
          "base_uri": "https://localhost:8080/"
        },
        "id": "XvooaWbLtZsb",
        "outputId": "7bb9194e-c7c3-4237-aff2-34220d469b2a"
      },
      "outputs": [
        {
          "output_type": "stream",
          "name": "stdout",
          "text": [
            "60\n",
            "100\n",
            "620\n",
            "61\n"
          ]
        }
      ],
      "source": [
        "L=[]\n",
        "m=int(input())\n",
        "M=int(input())\n",
        "k=int(M**0.5)\n",
        "for i in range(m,M+1):\n",
        "\tif i==1:\n",
        "\t\tcontinue\n",
        "\tfor h in range(2,k+2):\n",
        "\t\tif h<i:\n",
        "\t\t\tif i%h==0:\n",
        "\t\t\t\tbreak\n",
        "\telse:\n",
        "\t\t\tL.append(i)\n",
        "if len(L)>0:\n",
        "    print(sum(L))\n",
        "    print(min(L))\n",
        "else:\n",
        "    print(-1)"
      ]
    },
    {
      "cell_type": "markdown",
      "metadata": {
        "id": "jzF2bJ9FtZsb"
      },
      "source": [
        "### [11653](https://www.acmicpc.net/problem/11653) 소인수분해"
      ]
    },
    {
      "cell_type": "code",
      "execution_count": 3,
      "metadata": {
        "colab": {
          "base_uri": "https://localhost:8080/"
        },
        "id": "OCPn-gt6tZsc",
        "outputId": "a1088c75-4b38-4ba4-e649-d7bfe79ad7cb"
      },
      "outputs": [
        {
          "output_type": "stream",
          "name": "stdout",
          "text": [
            "72\n",
            "2\n",
            "2\n",
            "2\n",
            "3\n",
            "3\n"
          ]
        }
      ],
      "source": [
        "N=int(input())\n",
        "n=2\n",
        "while N!=1:\n",
        "\tif (N%n==0):\n",
        "\t\tprint(n)\n",
        "\t\tN//=n\n",
        "\telse:n+=1"
      ]
    },
    {
      "cell_type": "markdown",
      "metadata": {
        "id": "GOGRA2zEtZsc"
      },
      "source": [
        "### [1929](https://www.acmicpc.net/problem/1929) 소수 구하기"
      ]
    },
    {
      "cell_type": "code",
      "execution_count": 4,
      "metadata": {
        "colab": {
          "base_uri": "https://localhost:8080/"
        },
        "id": "yEidAQ7CtZsc",
        "outputId": "889df912-b835-4fcd-ce87-4c9bbb746ef4"
      },
      "outputs": [
        {
          "output_type": "stream",
          "name": "stdout",
          "text": [
            "3 16\n",
            "3\n",
            "5\n",
            "7\n",
            "11\n",
            "13\n"
          ]
        }
      ],
      "source": [
        "min,max = map(int,input().split())\n",
        "n = 1\n",
        "l = []\n",
        "while n*n<=max:\n",
        "    n+=1\n",
        "for num in range(min,max+1):\n",
        "\tif num>1:\n",
        "\t\tfor i in range(2,n+1):\n",
        "\t\t\tif num>i:\n",
        "\t\t\t\tif num%i==0:\n",
        "\t\t\t\t\tbreak\n",
        "\t\telse: \n",
        "\t\t\tl.append(num)\n",
        "for k in l:\n",
        "    print(k)"
      ]
    },
    {
      "cell_type": "markdown",
      "metadata": {
        "id": "qSVoy1vBtZsd"
      },
      "source": [
        "### [4948](https://www.acmicpc.net/problem/4948) 베르트랑 공준"
      ]
    },
    {
      "cell_type": "code",
      "execution_count": 6,
      "metadata": {
        "colab": {
          "base_uri": "https://localhost:8080/"
        },
        "id": "7tlQgKN9tZsd",
        "outputId": "d9a294b2-17b8-4e14-c819-b87511a396d1"
      },
      "outputs": [
        {
          "output_type": "stream",
          "name": "stdout",
          "text": [
            "1\n",
            "10\n",
            "13\n",
            "10000\n",
            "0\n",
            "1\n",
            "4\n",
            "3\n",
            "1033\n"
          ]
        }
      ],
      "source": [
        "# import sys\n",
        "\n",
        "def primenumber(x):\n",
        "\tn=int(x**0.5)\n",
        "\tfor i in range(2, n+1):\n",
        "\t\tif x % i == 0:\n",
        "\t\t\t\treturn False\n",
        "\treturn True\n",
        "\n",
        "l=[2]\n",
        "ans=[]\n",
        "for i in range(3,246913,2):\n",
        "    if(primenumber(i)==True):\n",
        "        l.append(i)\n",
        "while 1:\n",
        "\tk=int(input())\n",
        "\tif k==0:\n",
        "\t\tbreak\n",
        "\tif k==1:\n",
        "\t\tans.append(1)\n",
        "\t\tcontinue\n",
        "\tcnt = 0\n",
        "\tfor i in l:\n",
        "\t\tif (k<i) and (i<=2*k):\n",
        "\t\t\tcnt+=1\n",
        "\t\telif i>2*k:\n",
        "\t\t\tbreak\n",
        "\tans.append(cnt)\n",
        "for i in ans:\n",
        "\tprint(i)"
      ]
    },
    {
      "cell_type": "markdown",
      "metadata": {
        "id": "RIMvHyVYtZsd"
      },
      "source": [
        "### [9020](https://www.acmicpc.net/problem/9020) 골드바흐의 추측"
      ]
    },
    {
      "cell_type": "code",
      "execution_count": 7,
      "metadata": {
        "colab": {
          "base_uri": "https://localhost:8080/"
        },
        "id": "TgVIiGeltZse",
        "outputId": "aeace479-d043-4a7e-d0ad-d3eee0baafc5"
      },
      "outputs": [
        {
          "output_type": "stream",
          "name": "stdout",
          "text": [
            "3\n",
            "8\n",
            "3 5\n",
            "10\n",
            "5 5\n",
            "16\n",
            "5 11\n"
          ]
        }
      ],
      "source": [
        "from math import sqrt\n",
        "prime=[]\n",
        "def sosu(n):\n",
        "\tk=round(sqrt(n))+1\n",
        "\tfor i in range(2,k):\n",
        "\t\t\tif n%i==0:\n",
        "\t\t\t\tbreak\n",
        "\telse:\n",
        "\t\t\treturn(1)\n",
        "\treturn(0)\n",
        "for i in range(2,10001):\n",
        "\tif sosu(i)==1:\n",
        "\t\tprime.append(i)\n",
        "for _ in range(int(input())):\n",
        "\tN=int(input())\n",
        "\thalf=N//2\n",
        "\ta,b=0,0\n",
        "\tflag=0\n",
        "\tfor idx,i in enumerate(prime):\n",
        "\t\tif half==i:\n",
        "\t\t\ta,b=half,half\n",
        "\t\t\tbreak\n",
        "\t\telif half<i:\n",
        "\t\t\tk=1\n",
        "\t\t\twhile 1:\n",
        "\t\t\t\tmin=prime[idx]+prime[idx-k]\n",
        "\t\t\t\tif (min==N):\n",
        "\t\t\t\t\ta,b=prime[idx-k],prime[idx]\n",
        "\t\t\t\t\tflag=1\n",
        "\t\t\t\t\tbreak\n",
        "\t\t\t\telif (min<N):\n",
        "\t\t\t\t\tbreak\n",
        "\t\t\t\tk+=1\n",
        "\t\tif (flag==1):\n",
        "\t\t\tbreak\n",
        "\tprint(a,b)"
      ]
    }
  ],
  "metadata": {
    "anaconda-cloud": {},
    "kernelspec": {
      "display_name": "Python 3",
      "language": "python",
      "name": "python3"
    },
    "language_info": {
      "codemirror_mode": {
        "name": "ipython",
        "version": 3
      },
      "file_extension": ".py",
      "mimetype": "text/x-python",
      "name": "python",
      "nbconvert_exporter": "python",
      "pygments_lexer": "ipython3",
      "version": "3.6.1"
    },
    "colab": {
      "provenance": [],
      "include_colab_link": true
    }
  },
  "nbformat": 4,
  "nbformat_minor": 0
}