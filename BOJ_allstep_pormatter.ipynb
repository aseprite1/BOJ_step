{
  "nbformat": 4,
  "nbformat_minor": 0,
  "metadata": {
    "colab": {
      "provenance": [],
      "authorship_tag": "ABX9TyPFw5ylt58n9qGbJW8W+Mmt",
      "include_colab_link": true
    },
    "kernelspec": {
      "name": "python3",
      "display_name": "Python 3"
    },
    "language_info": {
      "name": "python"
    }
  },
  "cells": [
    {
      "cell_type": "markdown",
      "metadata": {
        "id": "view-in-github",
        "colab_type": "text"
      },
      "source": [
        "<a href=\"https://colab.research.google.com/github/aseprite1/BOJ_step/blob/main/BOJ_allstep_pormatter.ipynb\" target=\"_parent\"><img src=\"https://colab.research.google.com/assets/colab-badge.svg\" alt=\"Open In Colab\"/></a>"
      ]
    },
    {
      "cell_type": "markdown",
      "source": [
        "초기 설정\n"
      ],
      "metadata": {
        "id": "e3ZBf2SjXOnf"
      }
    },
    {
      "cell_type": "code",
      "source": [
        "!pip install ipynb-py-convert\n",
        "!pip install selenium\n",
        "!apt-get update\n",
        "!apt install chromium-chromedriver\n",
        "!cp /usr/lib/chromium-browser/chromedriver /usr/bin"
      ],
      "metadata": {
        "id": "9HNt3QxxVf-7"
      },
      "execution_count": null,
      "outputs": []
    },
    {
      "cell_type": "code",
      "source": [
        "\n",
        "import time\n",
        "import os\n",
        "from selenium import webdriver\n",
        "from selenium.webdriver.common.by import By\n",
        "\n",
        "options = webdriver.ChromeOptions()\n",
        "\n",
        "options.add_argument('--headless')        # cHead-less 설정\n",
        "options.add_argument('--no-sandbox')\n",
        "options.add_argument('--disable-dev-shm-usage')\n",
        "\n",
        "driver = webdriver.Chrome('chromedriver', options=options)\n",
        "print(\"Do you want to create templates for all steps? (y/n)\")\n",
        "check=input()\n",
        "if check!='y' and check!= \"yes\":\n",
        "  exit()\n",
        "\n",
        "for i in range(1,55):\n",
        "  level=str(i)\n",
        "\n",
        "  url = \"https://www.acmicpc.net/step\"\n",
        "  driver.get(url)\n",
        "\n",
        "  # 단계별 사이트 접속\n",
        "  site_url = \"/html/body/div[2]/div[2]/div[5]/div/div/table/tbody/tr[\"+ level +\"]/td[2]/a\"\n",
        "  site=driver.find_element(By.XPATH, site_url) \n",
        "  level_name = site.text\n",
        "  site.send_keys('\\n')\n",
        "\n",
        "\n",
        "  step_url = driver.current_url\n",
        "  problem_list=[]\n",
        "  table = driver.find_element(By.ID, \"problemset\")\n",
        "  tbody =table.find_element(By.TAG_NAME, \"tbody\")\n",
        "  rows = tbody.find_elements(By.TAG_NAME, \"tr\")\n",
        "\n",
        "  # 문제의 번호, 제목 가져오기\n",
        "  for idx in range(0,len(rows),2):\n",
        "    problem=(rows[idx].find_elements(By.TAG_NAME, \"td\")[1].text,rows[idx].find_elements(By.TAG_NAME, \"td\")[2].text)\n",
        "    s=\"### [\" + problem[0] + \"](https://www.acmicpc.net/problem/\"  +  problem[0] +  \") \"  +  problem[1]\n",
        "    problem_list.append(\"# %%\\n'''\\n\" + s + \"\\n\" + \"'''\\n\\n# %%\\n\" + \"#PASTE YOUR CODE HERE\" + \"\\n\\n\")\n",
        "\n",
        "  if len(level)==1:\n",
        "    level=\"0\"+level\n",
        "\n",
        "  # 머릿말 설정\n",
        "  text_py=\"# %%\\n'''\\n# **[\" + level + \"](\" + step_url + \")** :: \" + level_name + \"\\n'''\\n\\n\"\n",
        "  text_py = text_py + \"\".join(problem_list)\n",
        "\n",
        "  # py 파일생성\n",
        "  file_name = level + \"_\" + level_name+\".py\"\n",
        "  f=open(file_name, 'w')\n",
        "  f.write(text_py)\n",
        "  f.close()\n",
        "  file_name=file_name[:-3]\n",
        "  print(\"NEW FILE : \\\"\"+file_name+\".ipynb\\\"\")\n",
        "  os.environ['FILE_NAME'] = file_name\n",
        "\n",
        "  # py -> ipynb 변환 후 py 삭제\n",
        "  !ipynb-py-convert \"$FILE_NAME.py\" \"$FILE_NAME.ipynb\"\n",
        "  !rm \"$FILE_NAME.py\"\n",
        "\n",
        "  driver.close()\n",
        "\n",
        "# #colab 사용 시 우측 폴더 아이콘  content에서 결과물 다운로드하면 됨"
      ],
      "metadata": {
        "id": "NNrmPozRXAgF",
        "colab": {
          "base_uri": "https://localhost:8080/"
        },
        "outputId": "b9c736d4-044d-4554-84b1-1443fea14ddc"
      },
      "execution_count": 4,
      "outputs": [
        {
          "output_type": "stream",
          "name": "stdout",
          "text": [
            "Do you want to create templates for all steps? (y/n)\n",
            "yes\n",
            "NEW FILE : \"01_입출력과 사칙연산.ipynb\"\n",
            "NEW FILE : \"02_조건문.ipynb\"\n",
            "NEW FILE : \"03_반복문.ipynb\"\n",
            "NEW FILE : \"04_1차원 배열.ipynb\"\n",
            "NEW FILE : \"05_함수.ipynb\"\n",
            "NEW FILE : \"06_문자열.ipynb\"\n",
            "NEW FILE : \"07_기본 수학 1.ipynb\"\n",
            "NEW FILE : \"08_기본 수학 2.ipynb\"\n",
            "NEW FILE : \"09_2차원 배열.ipynb\"\n",
            "NEW FILE : \"10_정렬.ipynb\"\n",
            "NEW FILE : \"11_재귀.ipynb\"\n",
            "NEW FILE : \"12_브루트 포스.ipynb\"\n",
            "NEW FILE : \"13_집합과 맵.ipynb\"\n",
            "NEW FILE : \"14_기하 1.ipynb\"\n",
            "NEW FILE : \"15_정수론 및 조합론.ipynb\"\n",
            "NEW FILE : \"16_백트래킹.ipynb\"\n",
            "NEW FILE : \"17_동적 계획법 1.ipynb\"\n",
            "NEW FILE : \"18_누적 합.ipynb\"\n",
            "NEW FILE : \"19_그리디 알고리즘.ipynb\"\n",
            "NEW FILE : \"20_스택.ipynb\"\n",
            "NEW FILE : \"21_큐, 덱.ipynb\"\n",
            "NEW FILE : \"22_분할 정복.ipynb\"\n",
            "NEW FILE : \"23_이분 탐색.ipynb\"\n",
            "NEW FILE : \"24_우선순위 큐.ipynb\"\n",
            "NEW FILE : \"25_동적 계획법 2.ipynb\"\n",
            "NEW FILE : \"26_스택 2.ipynb\"\n",
            "NEW FILE : \"27_그래프와 순회.ipynb\"\n",
            "NEW FILE : \"28_최단 경로.ipynb\"\n",
            "NEW FILE : \"29_투 포인터.ipynb\"\n",
            "NEW FILE : \"30_동적 계획법과 최단거리 역추적.ipynb\"\n",
            "NEW FILE : \"31_트리.ipynb\"\n",
            "NEW FILE : \"32_유니온 파인드.ipynb\"\n",
            "NEW FILE : \"33_최소 신장 트리.ipynb\"\n",
            "NEW FILE : \"34_트리에서의 동적 계획법.ipynb\"\n",
            "NEW FILE : \"35_기하 2.ipynb\"\n",
            "NEW FILE : \"36_동적 계획법 3.ipynb\"\n",
            "NEW FILE : \"37_문자열 알고리즘 1.ipynb\"\n",
            "NEW FILE : \"38_위상 정렬.ipynb\"\n",
            "NEW FILE : \"39_최소 공통 조상.ipynb\"\n",
            "NEW FILE : \"40_강한 연결 요소.ipynb\"\n",
            "NEW FILE : \"41_세그먼트 트리.ipynb\"\n",
            "NEW FILE : \"42_스위핑.ipynb\"\n",
            "NEW FILE : \"43_동적 계획법 4.ipynb\"\n",
            "NEW FILE : \"44_컨벡스 헐.ipynb\"\n",
            "NEW FILE : \"45_이분 매칭.ipynb\"\n",
            "NEW FILE : \"46_네트워크 플로우.ipynb\"\n",
            "NEW FILE : \"47_MCMF.ipynb\"\n",
            "NEW FILE : \"48_더 어려운 수학.ipynb\"\n",
            "NEW FILE : \"49_고속 푸리에 변환.ipynb\"\n",
            "NEW FILE : \"50_문자열 알고리즘 2.ipynb\"\n",
            "NEW FILE : \"51_어려운 구간 쿼리.ipynb\"\n",
            "NEW FILE : \"52_세그먼트 트리 (Hard).ipynb\"\n",
            "NEW FILE : \"53_동적 계획법 최적화.ipynb\"\n",
            "NEW FILE : \"54_매우 어려운 자료구조와 알고리즘 (수정 예정).ipynb\"\n"
          ]
        }
      ]
    }
  ]
}