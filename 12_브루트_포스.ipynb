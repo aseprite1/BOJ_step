{
  "cells": [
    {
      "cell_type": "markdown",
      "metadata": {
        "id": "view-in-github",
        "colab_type": "text"
      },
      "source": [
        "<a href=\"https://colab.research.google.com/github/aseprite1/BOJ_step/blob/main/12_%EB%B8%8C%EB%A3%A8%ED%8A%B8_%ED%8F%AC%EC%8A%A4.ipynb\" target=\"_parent\"><img src=\"https://colab.research.google.com/assets/colab-badge.svg\" alt=\"Open In Colab\"/></a>"
      ]
    },
    {
      "cell_type": "markdown",
      "metadata": {
        "id": "4hh5cxcBcCOt"
      },
      "source": [
        "# **[12](https://www.acmicpc.net/step/22)** :: 브루트 포스"
      ]
    },
    {
      "cell_type": "markdown",
      "metadata": {
        "id": "ow2Jqtw8cCOw"
      },
      "source": [
        "### [2798](https://www.acmicpc.net/problem/2798) 블랙잭"
      ]
    },
    {
      "cell_type": "code",
      "metadata": {
        "colab": {
          "base_uri": "https://localhost:8080/"
        },
        "id": "JWvLki5pcCOw",
        "outputId": "c115d85b-b28f-4762-f0e9-dc519c55d96d"
      },
      "source": [
        "import itertools\n",
        "n,total = map(int,input().split())\n",
        "arr = list(itertools.combinations(list(map(int,input().split())),3))\n",
        "dif = 2147483647\n",
        "for i in arr:\n",
        "\tk = total-sum(i)\n",
        "\tif dif > k & k>=0:\n",
        "\t\tdif = k\n",
        "print(total - dif)"
      ],
      "outputs": [
        {
          "output_type": "stream",
          "name": "stdout",
          "text": [
            "5 21\n",
            "5 6 7 8 9\n",
            "21\n"
          ]
        }
      ],
      "execution_count": 1
    },
    {
      "cell_type": "markdown",
      "metadata": {
        "id": "mtaePCavcCOx"
      },
      "source": [
        "### [2231](https://www.acmicpc.net/problem/2231) 분해합"
      ]
    },
    {
      "cell_type": "code",
      "metadata": {
        "colab": {
          "base_uri": "https://localhost:8080/"
        },
        "id": "KpHt8dD8cCOy",
        "outputId": "92b29ec7-8209-45bb-df5f-ddb502e220ce"
      },
      "source": [
        "n= int(input())\n",
        "ans =0\n",
        "flag =0\n",
        "for i in range(n+1):\n",
        "\tans = i\n",
        "\tkeep = i\n",
        "\twhile(i>0):\n",
        "\t\tans+=i%10\n",
        "\t\ti = i//10\n",
        "\tif (ans==n):\n",
        "\t\tprint(keep)\n",
        "\t\tflag = 1\n",
        "\t\tbreak\n",
        "if flag==0:\n",
        "\tprint(\"0\")"
      ],
      "outputs": [
        {
          "output_type": "stream",
          "name": "stdout",
          "text": [
            "216\n",
            "198\n"
          ]
        }
      ],
      "execution_count": 2
    },
    {
      "cell_type": "markdown",
      "metadata": {
        "id": "7PIR5pnTcCOy"
      },
      "source": [
        "### [7568](https://www.acmicpc.net/problem/7568) 덩치"
      ]
    },
    {
      "cell_type": "code",
      "metadata": {
        "id": "bOpwsTn0cCOy"
      },
      "source": [
        "#PASTE YOUR CODE HERE"
      ],
      "outputs": [],
      "execution_count": null
    },
    {
      "cell_type": "markdown",
      "metadata": {
        "id": "i10mvYvbcCOy"
      },
      "source": [
        "### [1018](https://www.acmicpc.net/problem/1018) 체스판 다시 칠하기"
      ]
    },
    {
      "cell_type": "code",
      "metadata": {
        "colab": {
          "base_uri": "https://localhost:8080/"
        },
        "id": "3yIBmTZmcCOz",
        "outputId": "478babe6-10a7-4fd7-dde5-a196799a5365"
      },
      "source": [
        "m,n = map(int,input().split())\n",
        "board = []\n",
        "result = []\n",
        "for _ in range(m):\n",
        "\tboard.append(input())\n",
        "for a in range(m-7):\n",
        "    for b in range(n-7):\n",
        "        w_index=0\n",
        "        b_index=0\n",
        "        for i in range(a,a+8):\n",
        "            for j in range(b,b+8):\n",
        "                if (i+j)%2==0:\n",
        "                    if board[i][j]!='W':\n",
        "                        w_index+=1\n",
        "                    else:\n",
        "                        b_index+=1\n",
        "                else:\n",
        "                    if board[i][j]!='W':\n",
        "                        b_index+=1\n",
        "                    else:\n",
        "                        w_index+=1\n",
        "                        \n",
        "        result.append(w_index)\n",
        "        result.append(b_index)\n",
        "print(min(result))"
      ],
      "outputs": [
        {
          "output_type": "stream",
          "name": "stdout",
          "text": [
            "10 13\n",
            "BBBBBBBBWBWBW\n",
            "BBBBBBBBBWBWB\n",
            "BBBBBBBBWBWBW\n",
            "BBBBBBBBBWBWB\n",
            "BBBBBBBBWBWBW\n",
            "BBBBBBBBBWBWB\n",
            "BBBBBBBBWBWBW\n",
            "BBBBBBBBBWBWB\n",
            "WWWWWWWWWWBWB\n",
            "WWWWWWWWWWBWB\n",
            "12\n"
          ]
        }
      ],
      "execution_count": 3
    },
    {
      "cell_type": "markdown",
      "metadata": {
        "id": "SNYn2v43cCOz"
      },
      "source": [
        "### [1436](https://www.acmicpc.net/problem/1436) 영화감독 숌"
      ]
    },
    {
      "cell_type": "code",
      "metadata": {
        "colab": {
          "base_uri": "https://localhost:8080/"
        },
        "id": "IVEpV9EfcCOz",
        "outputId": "85c7b292-5040-4746-8098-852ed0da69f9"
      },
      "source": [
        "i = int(input())\n",
        "n = 665\n",
        "while i != 0:\n",
        "\tn+=1;\n",
        "\tif str(n).find(\"666\") != -1:\n",
        "\t\t\ti-=1\n",
        "print(n)"
      ],
      "outputs": [
        {
          "output_type": "stream",
          "name": "stdout",
          "text": [
            "42\n",
            "23666\n"
          ]
        }
      ],
      "execution_count": 5
    }
  ],
  "metadata": {
    "anaconda-cloud": {},
    "kernelspec": {
      "display_name": "Python 3",
      "language": "python",
      "name": "python3"
    },
    "language_info": {
      "codemirror_mode": {
        "name": "ipython",
        "version": 3
      },
      "file_extension": ".py",
      "mimetype": "text/x-python",
      "name": "python",
      "nbconvert_exporter": "python",
      "pygments_lexer": "ipython3",
      "version": "3.6.1"
    },
    "colab": {
      "provenance": [],
      "include_colab_link": true
    }
  },
  "nbformat": 4,
  "nbformat_minor": 0
}