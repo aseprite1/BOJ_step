{
  "cells": [
    {
      "cell_type": "markdown",
      "metadata": {
        "id": "view-in-github",
        "colab_type": "text"
      },
      "source": [
        "<a href=\"https://colab.research.google.com/github/aseprite1/BOJ_step/blob/main/11_%EC%9E%AC%EA%B7%80.ipynb\" target=\"_parent\"><img src=\"https://colab.research.google.com/assets/colab-badge.svg\" alt=\"Open In Colab\"/></a>"
      ]
    },
    {
      "cell_type": "markdown",
      "metadata": {
        "id": "mBJkj9xOZ3D-"
      },
      "source": [
        "# **[11](https://www.acmicpc.net/step/19)** :: 재귀"
      ]
    },
    {
      "cell_type": "markdown",
      "metadata": {
        "id": "E4OLSHdRZ3EA"
      },
      "source": [
        "### [10872](https://www.acmicpc.net/problem/10872) 팩토리얼"
      ]
    },
    {
      "cell_type": "code",
      "metadata": {
        "colab": {
          "base_uri": "https://localhost:8080/"
        },
        "id": "UCyrp3mHZ3EB",
        "outputId": "9536964f-27e6-4267-b8e7-e68e133caae4"
      },
      "source": [
        "def factorial(n):\n",
        "    if n==1 or n==0:\n",
        "        return 1\n",
        "    return (n*factorial(n-1))\n",
        "print(factorial(int(input())))"
      ],
      "outputs": [
        {
          "output_type": "stream",
          "name": "stdout",
          "text": [
            "10\n",
            "3628800\n"
          ]
        }
      ],
      "execution_count": null
    },
    {
      "cell_type": "markdown",
      "metadata": {
        "id": "rPJmAfROZ3EB"
      },
      "source": [
        "### [10870](https://www.acmicpc.net/problem/10870) 피보나치 수 5"
      ]
    },
    {
      "cell_type": "code",
      "metadata": {
        "colab": {
          "base_uri": "https://localhost:8080/"
        },
        "id": "ywEKkb3SZ3EC",
        "outputId": "09560dff-527b-4c83-d63b-41327bdc3703"
      },
      "source": [
        "def fibo(n):\n",
        "    if n==0:\n",
        "        return (0)\n",
        "    if n==1 or n==2:\n",
        "        return (1)\n",
        "    return(fibo(n-1)+fibo(n-2))\n",
        "print(fibo(int(input())))"
      ],
      "outputs": [
        {
          "output_type": "stream",
          "name": "stdout",
          "text": [
            "13\n",
            "233\n"
          ]
        }
      ],
      "execution_count": null
    },
    {
      "cell_type": "markdown",
      "metadata": {
        "id": "YkruoI4SZ3EC"
      },
      "source": [
        "### [25501](https://www.acmicpc.net/problem/25501) 재귀의 귀재"
      ]
    },
    {
      "cell_type": "code",
      "metadata": {
        "id": "1S50WfvtZ3EC"
      },
      "source": [
        "#PASTE YOUR CODE HERE"
      ],
      "outputs": [],
      "execution_count": null
    },
    {
      "cell_type": "markdown",
      "metadata": {
        "id": "x2yQlOZiZ3ED"
      },
      "source": [
        "### [24060](https://www.acmicpc.net/problem/24060) 알고리즘 수업 - 병합 정렬 1"
      ]
    },
    {
      "cell_type": "code",
      "metadata": {
        "id": "PAHSQrZVZ3ED"
      },
      "source": [
        "#PASTE YOUR CODE HERE"
      ],
      "outputs": [],
      "execution_count": null
    },
    {
      "cell_type": "markdown",
      "metadata": {
        "id": "3DCMJVJBZ3ED"
      },
      "source": [
        "### [2447](https://www.acmicpc.net/problem/2447) 별 찍기 - 10"
      ]
    },
    {
      "cell_type": "code",
      "metadata": {
        "colab": {
          "base_uri": "https://localhost:8080/"
        },
        "id": "V9-WXbbXZ3EE",
        "outputId": "3dec206d-b4a0-4c5c-f7a0-fe4bac95fad5"
      },
      "source": [
        "n=int(input())\n",
        "rec=0\n",
        "while (n!=1):\n",
        "    n//=3\n",
        "    rec+=1\n",
        "fr=rec\n",
        "def recursion(rec):\n",
        "\tif rec==0:\n",
        "\t\t\tstars=[\"*\"]\n",
        "\t\t\treturn stars\n",
        "\telse:\n",
        "\t\tstars=recursion(rec-1)\n",
        "\tL=[]\n",
        "\tfor i in stars:\n",
        "\t\t\tL.append(i*3)\n",
        "\tfor i in stars:\n",
        "\t\t\tL.append(i+' '*(3**(rec-1))+i)\n",
        "\tfor i in stars:\n",
        "\t\t\tL.append(i*3)\n",
        "\t# if(fr==rec):\n",
        "\t# \t\tfor i in L:\n",
        "\t# \t\t\t\tprint(i)\n",
        "\treturn L\n",
        "recursion(rec)"
      ],
      "outputs": [
        {
          "name": "stdout",
          "output_type": "stream",
          "text": [
            "27\n"
          ]
        },
        {
          "output_type": "execute_result",
          "data": {
            "text/plain": [
              "['***************************',\n",
              " '* ** ** ** ** ** ** ** ** *',\n",
              " '***************************',\n",
              " '***   ******   ******   ***',\n",
              " '* *   * ** *   * ** *   * *',\n",
              " '***   ******   ******   ***',\n",
              " '***************************',\n",
              " '* ** ** ** ** ** ** ** ** *',\n",
              " '***************************',\n",
              " '*********         *********',\n",
              " '* ** ** *         * ** ** *',\n",
              " '*********         *********',\n",
              " '***   ***         ***   ***',\n",
              " '* *   * *         * *   * *',\n",
              " '***   ***         ***   ***',\n",
              " '*********         *********',\n",
              " '* ** ** *         * ** ** *',\n",
              " '*********         *********',\n",
              " '***************************',\n",
              " '* ** ** ** ** ** ** ** ** *',\n",
              " '***************************',\n",
              " '***   ******   ******   ***',\n",
              " '* *   * ** *   * ** *   * *',\n",
              " '***   ******   ******   ***',\n",
              " '***************************',\n",
              " '* ** ** ** ** ** ** ** ** *',\n",
              " '***************************']"
            ]
          },
          "metadata": {},
          "execution_count": 7
        }
      ],
      "execution_count": null
    },
    {
      "cell_type": "markdown",
      "metadata": {
        "id": "9fqOO5x4Z3EE"
      },
      "source": [
        "### [11729](https://www.acmicpc.net/problem/11729) 하노이 탑 이동 순서"
      ]
    },
    {
      "cell_type": "code",
      "metadata": {
        "id": "XyvhggHLZ3EE",
        "outputId": "3827028f-7227-4268-9c7e-1710a5673684",
        "colab": {
          "base_uri": "https://localhost:8080/"
        }
      },
      "source": [
        "from copy import deepcopy\n",
        "def req(n):\n",
        "    if n==0:\n",
        "        l =[]\n",
        "        return l\n",
        "    l = req(n-1)\n",
        "    l_front = deepcopy(l)\n",
        "    l_back = deepcopy(l)\n",
        "    for i in l_front:\n",
        "        if i[0]==3:\n",
        "            i[0]=2\n",
        "        elif i[0]==2:\n",
        "            i[0]=3\n",
        "        if i[1]==3:\n",
        "            i[1]=2\n",
        "        elif i[1]==2:\n",
        "            i[1]=3\n",
        "    for i in l_back: \n",
        "        if i[0]==1:\n",
        "            i[0]=2\n",
        "        elif i[0]==2:\n",
        "            i[0]=1\n",
        "        if i[1]==1:\n",
        "            i[1]=2\n",
        "        elif i[1]==2:\n",
        "            i[1]=1     \n",
        "    return l_front + [[1,3]] + l_back \n",
        "n = int(input())\n",
        "print((2**n)-1)\n",
        "for i in req(n):\n",
        "    print(*i)"
      ],
      "outputs": [
        {
          "output_type": "stream",
          "name": "stdout",
          "text": [
            "4\n",
            "15\n",
            "1 2\n",
            "1 3\n",
            "2 3\n",
            "1 2\n",
            "3 1\n",
            "3 2\n",
            "1 2\n",
            "1 3\n",
            "2 3\n",
            "2 1\n",
            "3 1\n",
            "2 3\n",
            "1 2\n",
            "1 3\n",
            "2 3\n"
          ]
        }
      ],
      "execution_count": 25
    }
  ],
  "metadata": {
    "anaconda-cloud": {},
    "kernelspec": {
      "display_name": "Python 3",
      "language": "python",
      "name": "python3"
    },
    "language_info": {
      "codemirror_mode": {
        "name": "ipython",
        "version": 3
      },
      "file_extension": ".py",
      "mimetype": "text/x-python",
      "name": "python",
      "nbconvert_exporter": "python",
      "pygments_lexer": "ipython3",
      "version": "3.6.1"
    },
    "colab": {
      "provenance": [],
      "include_colab_link": true
    }
  },
  "nbformat": 4,
  "nbformat_minor": 0
}