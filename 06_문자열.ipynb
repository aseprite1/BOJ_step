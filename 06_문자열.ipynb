{
  "cells": [
    {
      "cell_type": "markdown",
      "metadata": {
        "id": "view-in-github",
        "colab_type": "text"
      },
      "source": [
        "<a href=\"https://colab.research.google.com/github/aseprite1/BOJ_step/blob/main/06_%E1%84%86%E1%85%AE%E1%86%AB%E1%84%8C%E1%85%A1%E1%84%8B%E1%85%A7%E1%86%AF.ipynb\" target=\"_parent\"><img src=\"https://colab.research.google.com/assets/colab-badge.svg\" alt=\"Open In Colab\"/></a>"
      ]
    },
    {
      "cell_type": "markdown",
      "metadata": {
        "id": "UaE61uMXy1Vh"
      },
      "source": [
        "# **[06](https://www.acmicpc.net/step/7)** :: 문자열"
      ]
    },
    {
      "cell_type": "markdown",
      "metadata": {
        "id": "KBGbx1cgy1Vi"
      },
      "source": [
        "### [11654](https://www.acmicpc.net/problem/11654) 아스키 코드"
      ]
    },
    {
      "cell_type": "code",
      "metadata": {
        "colab": {
          "base_uri": "https://localhost:8080/"
        },
        "id": "r6RfECLzy1Vj",
        "outputId": "f27b5341-0627-4c25-9488-91f713944956"
      },
      "source": [
        "print(ord(input()))"
      ],
      "outputs": [
        {
          "output_type": "stream",
          "name": "stdout",
          "text": [
            "3\n",
            "51\n"
          ]
        }
      ],
      "execution_count": null
    },
    {
      "cell_type": "markdown",
      "metadata": {
        "id": "rtEaCGHAy1Vk"
      },
      "source": [
        "### [11720](https://www.acmicpc.net/problem/11720) 숫자의 합"
      ]
    },
    {
      "cell_type": "code",
      "metadata": {
        "colab": {
          "base_uri": "https://localhost:8080/"
        },
        "id": "8jPV_2Ncy1Vk",
        "outputId": "1d35e8b5-5c06-482b-fa00-3dfdd4322146"
      },
      "source": [
        "n = int(input())\n",
        "k = input()\n",
        "ans = 0\n",
        "for i in k:\n",
        "    ans+=int(i)\n",
        "print(ans)"
      ],
      "outputs": [
        {
          "output_type": "stream",
          "name": "stdout",
          "text": [
            "10\n",
            "1234567894\n",
            "49\n"
          ]
        }
      ],
      "execution_count": null
    },
    {
      "cell_type": "markdown",
      "metadata": {
        "id": "BSkV9LKay1Vk"
      },
      "source": [
        "### [10809](https://www.acmicpc.net/problem/10809) 알파벳 찾기"
      ]
    },
    {
      "cell_type": "code",
      "metadata": {
        "colab": {
          "base_uri": "https://localhost:8080/"
        },
        "id": "F86LTO8uy1Vl",
        "outputId": "c6419e0c-5c47-4234-f70c-502e8dbd14ea"
      },
      "source": [
        "s=input()\n",
        "l=[-1]*26\n",
        "for i,c in enumerate(s):\n",
        "    if l[ord(c)-97]==-1:\n",
        "        l[ord(c)-97]=i\n",
        "print(*l)"
      ],
      "outputs": [
        {
          "output_type": "stream",
          "name": "stdout",
          "text": [
            "aseprite\n",
            "0 -1 -1 -1 2 -1 -1 -1 5 -1 -1 -1 -1 -1 -1 3 -1 4 1 6 -1 -1 -1 -1 -1 -1\n"
          ]
        }
      ],
      "execution_count": null
    },
    {
      "cell_type": "markdown",
      "metadata": {
        "id": "KDIj8yLqy1Vl"
      },
      "source": [
        "### [2675](https://www.acmicpc.net/problem/2675) 문자열 반복"
      ]
    },
    {
      "cell_type": "code",
      "metadata": {
        "colab": {
          "base_uri": "https://localhost:8080/"
        },
        "id": "ZFNlX2YAy1Vl",
        "outputId": "865a164f-af09-47e9-87b5-041eb3af0efc"
      },
      "source": [
        "k = int(input())\n",
        "n = 0\n",
        "answer = 0\n",
        "for i in range(k):\n",
        "    a,b = input().split()\n",
        "    str = b\n",
        "    for j in str:\n",
        "        for k in range(int(a)):\n",
        "            print(j,end=\"\")\n",
        "    print()"
      ],
      "outputs": [
        {
          "output_type": "stream",
          "name": "stdout",
          "text": [
            "2\n",
            "3 ABC\n",
            "AAABBBCCC\n",
            "8 ASEPRITE\n",
            "AAAAAAAASSSSSSSSEEEEEEEEPPPPPPPPRRRRRRRRIIIIIIIITTTTTTTTEEEEEEEE\n"
          ]
        }
      ],
      "execution_count": null
    },
    {
      "cell_type": "markdown",
      "metadata": {
        "id": "D0WIL5GJy1Vl"
      },
      "source": [
        "### [1157](https://www.acmicpc.net/problem/1157) 단어 공부"
      ]
    },
    {
      "cell_type": "code",
      "metadata": {
        "colab": {
          "base_uri": "https://localhost:8080/"
        },
        "id": "D3F12KaWy1Vm",
        "outputId": "a07b26b5-3475-4049-fe33-1e3426bb405a"
      },
      "source": [
        "from collections import Counter\n",
        "s=Counter(input().upper()).most_common(2)\n",
        "if len(s)==1 or s[0][1]!=s[1][1]:\n",
        "\tprint(s[0][0])\n",
        "else:\n",
        "\tprint(\"?\")"
      ],
      "outputs": [
        {
          "output_type": "stream",
          "name": "stdout",
          "text": [
            "AsePriTe\n",
            "E\n"
          ]
        }
      ],
      "execution_count": null
    },
    {
      "cell_type": "markdown",
      "metadata": {
        "id": "4WoEYa-5y1Vm"
      },
      "source": [
        "### [1152](https://www.acmicpc.net/problem/1152) 단어의 개수"
      ]
    },
    {
      "cell_type": "code",
      "metadata": {
        "colab": {
          "base_uri": "https://localhost:8080/"
        },
        "id": "zruaQhPoy1Vm",
        "outputId": "d5e1eac0-cff6-4616-b254-73d7d3d293c3"
      },
      "source": [
        "word = input()\n",
        "cnt = word.count(' ')\n",
        "if word[0]==' ':\n",
        "    cnt-=1\n",
        "if word[-1]==' ':\n",
        "    cnt-=1\n",
        "print (cnt+1)"
      ],
      "outputs": [
        {
          "output_type": "stream",
          "name": "stdout",
          "text": [
            "The quick brown fox jumps over the lazy dog\n",
            "9\n"
          ]
        }
      ],
      "execution_count": null
    },
    {
      "cell_type": "markdown",
      "metadata": {
        "id": "FiR0luqvy1Vm"
      },
      "source": [
        "### [2908](https://www.acmicpc.net/problem/2908) 상수"
      ]
    },
    {
      "cell_type": "code",
      "metadata": {
        "colab": {
          "base_uri": "https://localhost:8080/"
        },
        "id": "kQIBY6Tky1Vn",
        "outputId": "75422b9e-7455-4711-a55e-9233089afd93"
      },
      "source": [
        "a,b=input().split()\n",
        "A=int(a[::-1])\n",
        "B=int(b[::-1])\n",
        "if(A>B):\n",
        "\tprint(A)\n",
        "else:\n",
        "\tprint(B)"
      ],
      "outputs": [
        {
          "output_type": "stream",
          "name": "stdout",
          "text": [
            "734 894\n",
            "498\n"
          ]
        }
      ],
      "execution_count": null
    },
    {
      "cell_type": "markdown",
      "metadata": {
        "id": "l30GGpJwy1Vn"
      },
      "source": [
        "### [5622](https://www.acmicpc.net/problem/5622) 다이얼"
      ]
    },
    {
      "cell_type": "code",
      "metadata": {
        "id": "YgiCrNLPy1Vn",
        "outputId": "ec2f3bde-b456-4c24-d739-09ef83b9bf97",
        "colab": {
          "base_uri": "https://localhost:8080/"
        }
      },
      "source": [
        "l=[\"\",\"\",\"\",\"ABC\",\"DEF\",\"GHI\",\"JKL\",\"MNO\",\"PQRS\",\"TUV\",\"WXYZ\"]\n",
        "s=input()\n",
        "result=0\n",
        "for c in s:\n",
        "    for idx,i in enumerate(l):\n",
        "        if c in i:\n",
        "            result+=idx\n",
        "print(result)"
      ],
      "outputs": [
        {
          "output_type": "stream",
          "name": "stdout",
          "text": [
            "ASEPRITE\n",
            "49\n"
          ]
        }
      ],
      "execution_count": 1
    },
    {
      "cell_type": "markdown",
      "metadata": {
        "id": "cUgjmS9zy1Vn"
      },
      "source": [
        "### [2941](https://www.acmicpc.net/problem/2941) 크로아티아 알파벳"
      ]
    },
    {
      "cell_type": "code",
      "metadata": {
        "colab": {
          "base_uri": "https://localhost:8080/"
        },
        "id": "sYzNtl1_y1Vo",
        "outputId": "bd80162b-0141-43fc-956b-9185992e6040"
      },
      "source": [
        "a=input()\n",
        "a=a.replace(\"c=\",\"1\")\n",
        "a=a.replace(\"c-\",\"1\")\n",
        "a=a.replace(\"dz=\",\"1\")\n",
        "a=a.replace(\"d-\",\"1\")\n",
        "a=a.replace(\"lj\",\"1\")\n",
        "a=a.replace(\"nj\",\"1\")\n",
        "a=a.replace(\"s=\",\"1\")\n",
        "a=a.replace(\"z=\",\"1\")\n",
        "print(len(a))"
      ],
      "outputs": [
        {
          "output_type": "stream",
          "name": "stdout",
          "text": [
            "ljes=njak\n",
            "6\n"
          ]
        }
      ],
      "execution_count": null
    },
    {
      "cell_type": "markdown",
      "metadata": {
        "id": "a77EOJZny1Vo"
      },
      "source": [
        "### [1316](https://www.acmicpc.net/problem/1316) 그룹 단어 체커"
      ]
    },
    {
      "cell_type": "code",
      "metadata": {
        "colab": {
          "base_uri": "https://localhost:8080/"
        },
        "id": "-4exTDFfy1Vo",
        "outputId": "c3ccaacf-870d-4762-a0a9-5ce0216e4cd1"
      },
      "source": [
        "count=0\n",
        "for _ in range(int(input())):\n",
        "\ts=input()\n",
        "\tl=[]\n",
        "\tfor i in s:\n",
        "\t\tif i not in l:\n",
        "\t\t\tl.append(i)\n",
        "\t\telif i==l[-1]:\n",
        "\t\t\tcontinue\n",
        "\t\telse:\n",
        "\t\t\tbreak\n",
        "\telse:\n",
        "\t\tcount+=1\n",
        "print(count)"
      ],
      "outputs": [
        {
          "name": "stdout",
          "output_type": "stream",
          "text": [
            "3\n"
          ]
        }
      ],
      "execution_count": null
    }
  ],
  "metadata": {
    "anaconda-cloud": {},
    "kernelspec": {
      "display_name": "Python 3",
      "language": "python",
      "name": "python3"
    },
    "language_info": {
      "codemirror_mode": {
        "name": "ipython",
        "version": 3
      },
      "file_extension": ".py",
      "mimetype": "text/x-python",
      "name": "python",
      "nbconvert_exporter": "python",
      "pygments_lexer": "ipython3",
      "version": "3.6.1"
    },
    "colab": {
      "provenance": [],
      "include_colab_link": true
    }
  },
  "nbformat": 4,
  "nbformat_minor": 0
}