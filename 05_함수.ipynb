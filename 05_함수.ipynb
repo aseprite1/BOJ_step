{
  "cells": [
    {
      "cell_type": "markdown",
      "metadata": {
        "id": "view-in-github",
        "colab_type": "text"
      },
      "source": [
        "<a href=\"https://colab.research.google.com/github/aseprite1/BOJ_step/blob/main/05_%ED%95%A8%EC%88%98.ipynb\" target=\"_parent\"><img src=\"https://colab.research.google.com/assets/colab-badge.svg\" alt=\"Open In Colab\"/></a>"
      ]
    },
    {
      "cell_type": "markdown",
      "metadata": {
        "id": "goxJAP84yBS5"
      },
      "source": [
        "# **[05](https://www.acmicpc.net/step/5)** :: 함수"
      ]
    },
    {
      "cell_type": "markdown",
      "metadata": {
        "id": "z1hHbOpTyBS6"
      },
      "source": [
        "### [15596](https://www.acmicpc.net/problem/15596) 정수 N개의 합"
      ]
    },
    {
      "cell_type": "code",
      "metadata": {
        "id": "R_sOaW7wyBS7"
      },
      "source": [
        "def solve(a):\n",
        "    ans = sum(a)\n",
        "    return ans"
      ],
      "outputs": [],
      "execution_count": null
    },
    {
      "cell_type": "markdown",
      "metadata": {
        "id": "9DWtigczyBS8"
      },
      "source": [
        "### [4673](https://www.acmicpc.net/problem/4673) 셀프 넘버"
      ]
    },
    {
      "cell_type": "code",
      "metadata": {
        "id": "QI8cigwlyBS8"
      },
      "source": [
        "k = set(range(10001))\n",
        "for i in range (9973):\n",
        "\tn=0\n",
        "\tn+=i\n",
        "\tn+=i%10\n",
        "\twhile i//10>0:\n",
        "\t\t\ti= i//10\n",
        "\t\t\tn+=i%10\n",
        "\tif n in k:\n",
        "\t\tk.remove(n)\n",
        "for i in k:\n",
        "\tprint(i)"
      ],
      "outputs": [],
      "execution_count": null
    },
    {
      "cell_type": "markdown",
      "metadata": {
        "id": "4F2MapPUyBS8"
      },
      "source": [
        "### [1065](https://www.acmicpc.net/problem/1065) 한수"
      ]
    },
    {
      "cell_type": "code",
      "metadata": {
        "id": "c6PLY_bpyBS8"
      },
      "source": [
        "n = int(input())\n",
        "l = 0\n",
        "for i in range(1,n+1):\n",
        "    lst =[]\n",
        "    while(i>0):\n",
        "        lst.append(i%10)\n",
        "        i=i//10\n",
        "    k = 0\n",
        "    if len(lst)%2==1:\n",
        "        for i in range(int(((len(lst)-1)/2)+1)):\n",
        "            if i == 0:\n",
        "                k = lst[i]+lst[-(i+1)]\n",
        "            elif i == ((len(lst)-1)/2):\n",
        "                if k != 2*lst[i]:\n",
        "                    break\n",
        "            elif k != lst[i]+lst[-(i+1)]:\n",
        "                    break\n",
        "        else:\n",
        "                l += 1\n",
        "    else:\n",
        "            for i in range(int(len(lst)/2)):\n",
        "                    if i == 0:\n",
        "                            k = lst[i]+lst[-(i+1)]\n",
        "                    elif k != lst[i]+lst[-(i+1)]:\n",
        "                            break\n",
        "            else:\n",
        "                    l+= 1\n",
        "print(l)"
      ],
      "outputs": [],
      "execution_count": null
    }
  ],
  "metadata": {
    "anaconda-cloud": {},
    "kernelspec": {
      "display_name": "Python 3",
      "language": "python",
      "name": "python3"
    },
    "language_info": {
      "codemirror_mode": {
        "name": "ipython",
        "version": 3
      },
      "file_extension": ".py",
      "mimetype": "text/x-python",
      "name": "python",
      "nbconvert_exporter": "python",
      "pygments_lexer": "ipython3",
      "version": "3.6.1"
    },
    "colab": {
      "provenance": [],
      "include_colab_link": true
    }
  },
  "nbformat": 4,
  "nbformat_minor": 0
}