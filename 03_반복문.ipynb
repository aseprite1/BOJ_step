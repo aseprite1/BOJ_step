{
  "nbformat": 4,
  "nbformat_minor": 0,
  "metadata": {
    "colab": {
      "provenance": [],
      "authorship_tag": "ABX9TyMKwZO5O2t8nKTR/p4C4PIQ",
      "include_colab_link": true
    },
    "kernelspec": {
      "name": "python3",
      "display_name": "Python 3"
    },
    "language_info": {
      "name": "python"
    }
  },
  "cells": [
    {
      "cell_type": "markdown",
      "metadata": {
        "id": "view-in-github",
        "colab_type": "text"
      },
      "source": [
        "<a href=\"https://colab.research.google.com/github/aseprite1/BOJ_step/blob/main/03_%EB%B0%98%EB%B3%B5%EB%AC%B8.ipynb\" target=\"_parent\"><img src=\"https://colab.research.google.com/assets/colab-badge.svg\" alt=\"Open In Colab\"/></a>"
      ]
    },
    {
      "cell_type": "markdown",
      "source": [
        "#[**03**](https://www.acmicpc.net/step/3) :: 반복문"
      ],
      "metadata": {
        "id": "PU1unqN8EE7A"
      }
    },
    {
      "cell_type": "markdown",
      "source": [
        "###[2739](https://www.acmicpc.net/problem/2739)  구구단\n"
      ],
      "metadata": {
        "id": "9KSp5t_mEJHJ"
      }
    },
    {
      "cell_type": "code",
      "execution_count": null,
      "metadata": {
        "colab": {
          "base_uri": "https://localhost:8080/"
        },
        "id": "lbuH6DwJD8HT",
        "outputId": "6940669e-9c10-4b37-9295-d622a355f859"
      },
      "outputs": [
        {
          "output_type": "stream",
          "name": "stdout",
          "text": [
            "7\n",
            "7 * 1 = 7\n",
            "7 * 2 = 14\n",
            "7 * 3 = 21\n",
            "7 * 4 = 28\n",
            "7 * 5 = 35\n",
            "7 * 6 = 42\n",
            "7 * 7 = 49\n",
            "7 * 8 = 56\n",
            "7 * 9 = 63\n"
          ]
        }
      ],
      "source": [
        "n = int(input())\n",
        "for i in range (1,10):\n",
        "    print(str(n)+\" * \"+str(i)+\" = \"+(str(i *n)))"
      ]
    },
    {
      "cell_type": "markdown",
      "source": [
        "### [10950](https://www.acmicpc.net/problem/10950) A+B - 3"
      ],
      "metadata": {
        "id": "qsAU22W9ELwI"
      }
    },
    {
      "cell_type": "code",
      "source": [
        "n = int(input())\n",
        "for i in range(n):\n",
        "    print(sum(map(int,input().split())))"
      ],
      "metadata": {
        "id": "yPJ6xaJrGA1A",
        "outputId": "7357be30-c70d-455e-f953-eba77321f6e9",
        "colab": {
          "base_uri": "https://localhost:8080/"
        }
      },
      "execution_count": null,
      "outputs": [
        {
          "output_type": "stream",
          "name": "stdout",
          "text": [
            "5\n",
            "1 1\n",
            "2\n",
            "2 3\n",
            "5\n",
            "3 4\n",
            "7\n",
            "9 8\n",
            "17\n",
            "5 2\n",
            "7\n"
          ]
        }
      ]
    },
    {
      "cell_type": "markdown",
      "source": [
        "###\t[8393](https://www.acmicpc.net/problem/8393)\t 합"
      ],
      "metadata": {
        "id": "91Of0nm7EL9A"
      }
    },
    {
      "cell_type": "code",
      "source": [
        "k=int(input())\n",
        "n=0\n",
        "for i in range(1,k+1):\n",
        "    n+=i\n",
        "print(n)"
      ],
      "metadata": {
        "id": "r5EFr1LSEMDQ",
        "colab": {
          "base_uri": "https://localhost:8080/"
        },
        "outputId": "c908faae-93a2-4c1c-bf5c-4e3d0d0acd72"
      },
      "execution_count": null,
      "outputs": [
        {
          "output_type": "stream",
          "name": "stdout",
          "text": [
            "10\n",
            "55\n"
          ]
        }
      ]
    },
    {
      "cell_type": "markdown",
      "source": [
        "###\t[25304](https://www.acmicpc.net/problem/25304)\t 영수증"
      ],
      "metadata": {
        "id": "UK0ciR4FEMIV"
      }
    },
    {
      "cell_type": "code",
      "source": [
        "N=int(input())\n",
        "total=0\n",
        "for _ in range(int(input())):\n",
        "\ta,b=map(int,input().split())\n",
        "\ttotal+=a*b\n",
        "if(total!=N):\n",
        "\tprint(\"No\")\n",
        "else:\n",
        "\tprint(\"Yes\")"
      ],
      "metadata": {
        "id": "pMrK6pjSEMMQ",
        "colab": {
          "base_uri": "https://localhost:8080/"
        },
        "outputId": "a3f792e2-33d5-4cab-fc8c-6f3d8fb52bbc"
      },
      "execution_count": null,
      "outputs": [
        {
          "output_type": "stream",
          "name": "stdout",
          "text": [
            "260000\n",
            "4\n",
            "20000 5\n",
            "30000 2\n",
            "10000 6\n",
            "5000 8\n",
            "Yes\n"
          ]
        }
      ]
    },
    {
      "cell_type": "markdown",
      "source": [
        "###[15552](https://www.acmicpc.net/problem/15552) 빠른 A+B\n"
      ],
      "metadata": {
        "id": "qC9G4oOjEMQh"
      }
    },
    {
      "cell_type": "code",
      "source": [
        "# import sys\n",
        "# input=sys.stdin.readline\n",
        "for i in range((int(input().strip('\\n')))):\n",
        "    print(sum(map(int,input().split())))"
      ],
      "metadata": {
        "colab": {
          "base_uri": "https://localhost:8080/"
        },
        "id": "SkXAmPS_QkgH",
        "outputId": "584058d4-e64c-4d1e-c48e-d3b80214f72c"
      },
      "execution_count": null,
      "outputs": [
        {
          "output_type": "stream",
          "name": "stdout",
          "text": [
            "5\n",
            "1 1\n",
            "2\n",
            "12 34\n",
            "46\n",
            "789 8723\n",
            "9512\n",
            "123 0\n",
            "123\n",
            "123124 58444\n",
            "181568\n"
          ]
        }
      ]
    },
    {
      "cell_type": "markdown",
      "source": [
        "###[11021](https://www.acmicpc.net/problem/11021)\t A+B - 7"
      ],
      "metadata": {
        "id": "lj3n_o22EMZg"
      }
    },
    {
      "cell_type": "code",
      "source": [
        "n = int(input())\n",
        "for i in range(1,n+1):\n",
        "    print (\"Case #\"+str(i)+\": \"+str(sum(map(int,input().split()))))"
      ],
      "metadata": {
        "id": "NeVAROApEMdp",
        "colab": {
          "base_uri": "https://localhost:8080/"
        },
        "outputId": "0d237467-4402-4430-8ec1-3d7fa0477cc8"
      },
      "execution_count": null,
      "outputs": [
        {
          "output_type": "stream",
          "name": "stdout",
          "text": [
            "5\n",
            "1 1\n",
            "Case #1: 2\n",
            "2 3\n",
            "Case #2: 5\n",
            "3 4\n",
            "Case #3: 7\n",
            "9 8\n",
            "Case #4: 17\n",
            "5 2\n",
            "Case #5: 7\n"
          ]
        }
      ]
    },
    {
      "cell_type": "markdown",
      "source": [
        "\n",
        "\n",
        "###[11022](https://www.acmicpc.net/problem/11022) A+B - 8"
      ],
      "metadata": {
        "id": "yDFFSAtPEMiA"
      }
    },
    {
      "cell_type": "code",
      "source": [
        "n = int(input()) \n",
        "for i in range(1,n+1):\n",
        "    a,b = map(int,input().split())\n",
        "    print (\"Case #\"+str(i)+\": \"+str(a)+\" + \"+str(b)+\" = \"+str(a+b))3"
      ],
      "metadata": {
        "id": "2Lbt3dkPEMmQ",
        "colab": {
          "base_uri": "https://localhost:8080/"
        },
        "outputId": "b2216ad0-8ac4-4405-f387-d59748595e72"
      },
      "execution_count": null,
      "outputs": [
        {
          "output_type": "stream",
          "name": "stdout",
          "text": [
            "5\n",
            "1 1\n",
            "Case #1: 1 + 1 = 2\n",
            "2 3\n",
            "Case #2: 2 + 3 = 5\n",
            "3 4\n",
            "Case #3: 3 + 4 = 7\n",
            "9 8\n",
            "Case #4: 9 + 8 = 17\n",
            "5 2\n",
            "Case #5: 5 + 2 = 7\n"
          ]
        }
      ]
    },
    {
      "cell_type": "markdown",
      "source": [
        "###[2438](https://www.acmicpc.net/problem/2438) 별 찍기 - 1"
      ],
      "metadata": {
        "id": "_0r0hpZ1EMqS"
      }
    },
    {
      "cell_type": "code",
      "source": [
        "height = int(input())\n",
        "for i in range(1,height+1):\n",
        "\tfor k in range(i):\n",
        "\t\tprint(\"*\",end=\"\")\n",
        "\tprint()"
      ],
      "metadata": {
        "id": "l0GjVQjsEMuw",
        "colab": {
          "base_uri": "https://localhost:8080/"
        },
        "outputId": "edcf812c-bd08-4ed3-a9f1-02c71bdaceda"
      },
      "execution_count": null,
      "outputs": [
        {
          "output_type": "stream",
          "name": "stdout",
          "text": [
            "5\n",
            "*\n",
            "**\n",
            "***\n",
            "****\n",
            "*****\n"
          ]
        }
      ]
    },
    {
      "cell_type": "markdown",
      "source": [
        "###[2439](https://www.acmicpc.net/problem/2439)\t 별 찍기 - 2"
      ],
      "metadata": {
        "id": "z2RqUj8dEMzQ"
      }
    },
    {
      "cell_type": "code",
      "source": [
        "height = int(input())\n",
        "for i in range(1,height+1):\n",
        "\tfor k in range(height -i):\n",
        "\t\tprint(\" \",end=\"\")\n",
        "\tfor j in range(i):\n",
        "\t\tprint(\"*\",end=\"\")\n",
        "\tprint()"
      ],
      "metadata": {
        "id": "7G4ck65pEM3x",
        "colab": {
          "base_uri": "https://localhost:8080/"
        },
        "outputId": "efe04c53-dd69-4d03-83e3-ec4bc3949cdb"
      },
      "execution_count": null,
      "outputs": [
        {
          "output_type": "stream",
          "name": "stdout",
          "text": [
            "5\n",
            "    *\n",
            "   **\n",
            "  ***\n",
            " ****\n",
            "*****\n"
          ]
        }
      ]
    },
    {
      "cell_type": "markdown",
      "source": [
        "###[10952](https://www.acmicpc.net/problem/10952)\t A+B - 5"
      ],
      "metadata": {
        "id": "uS3sH-aeEM7x"
      }
    },
    {
      "cell_type": "code",
      "source": [
        "while True:\n",
        "    a,b = map(int,input().split())\n",
        "    if(a+b==0):\n",
        "        break\n",
        "    print(a+b)"
      ],
      "metadata": {
        "id": "udYmdkt4ENAp",
        "colab": {
          "base_uri": "https://localhost:8080/"
        },
        "outputId": "6be74e14-37b0-4f27-ded3-e53adecee88a"
      },
      "execution_count": null,
      "outputs": [
        {
          "name": "stdout",
          "output_type": "stream",
          "text": [
            "1 1\n",
            "2\n",
            "12 17\n",
            "29\n",
            "9 8\n",
            "17\n",
            "0 0\n"
          ]
        }
      ]
    },
    {
      "cell_type": "markdown",
      "source": [
        "###\t[10951](https://www.acmicpc.net/problem/10951) A+B - 4"
      ],
      "metadata": {
        "id": "DeBlSM0BENEY"
      }
    },
    {
      "cell_type": "code",
      "source": [
        "while True:\n",
        "    try:\n",
        "        print(sum(map(int, input().split())))\n",
        "    except:\n",
        "        break"
      ],
      "metadata": {
        "id": "2U-7wVJYENIi",
        "colab": {
          "base_uri": "https://localhost:8080/"
        },
        "outputId": "ed4a6376-674f-4bb0-cfe7-13576ae2630a"
      },
      "execution_count": null,
      "outputs": [
        {
          "output_type": "stream",
          "name": "stdout",
          "text": [
            "1 1\n",
            "2\n",
            "2 3\n",
            "5\n",
            "3 4\n",
            "7\n",
            "9 8\n",
            "17\n"
          ]
        }
      ]
    },
    {
      "cell_type": "markdown",
      "source": [
        "###[1110](https://www.acmicpc.net/problem/1110)  더하기 사이클"
      ],
      "metadata": {
        "id": "8UMIJDH9ENM5"
      }
    },
    {
      "cell_type": "code",
      "source": [
        "n=int(input())\n",
        "k=n\n",
        "cnt=1\n",
        "if k<10:\n",
        "\tk=10*k+k\n",
        "elif k>=10:\n",
        "\tk=(k%10)*10+(((k//10)+(k%10))%10)\n",
        "if k==n:\n",
        "\texit(print(cnt))\n",
        "while k!=n:\n",
        "\tif k<10:\n",
        "\t\tk=10*k+k\n",
        "\telif k>=10:\n",
        "\t\tk=(k%10)*10+(((k//10)+(k%10))%10)\n",
        "\tcnt+=1\n",
        "print(cnt)"
      ],
      "metadata": {
        "id": "rSmk3x5iENQh",
        "colab": {
          "base_uri": "https://localhost:8080/"
        },
        "outputId": "2ea9b6bc-8453-463d-d82e-a07513568ec9"
      },
      "execution_count": null,
      "outputs": [
        {
          "output_type": "stream",
          "name": "stdout",
          "text": [
            "71\n",
            "12\n"
          ]
        }
      ]
    }
  ]
}