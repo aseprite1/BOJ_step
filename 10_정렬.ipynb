{
  "cells": [
    {
      "cell_type": "markdown",
      "metadata": {
        "id": "view-in-github",
        "colab_type": "text"
      },
      "source": [
        "<a href=\"https://colab.research.google.com/github/aseprite1/BOJ_step/blob/main/10_%EC%A0%95%EB%A0%AC.ipynb\" target=\"_parent\"><img src=\"https://colab.research.google.com/assets/colab-badge.svg\" alt=\"Open In Colab\"/></a>"
      ]
    },
    {
      "cell_type": "markdown",
      "metadata": {
        "id": "_i7iNThlYE4F"
      },
      "source": [
        "# **[10](https://www.acmicpc.net/step/9)** :: 정렬"
      ]
    },
    {
      "cell_type": "markdown",
      "metadata": {
        "id": "ONYOylBCYE4I"
      },
      "source": [
        "### [2750](https://www.acmicpc.net/problem/2750) 수 정렬하기"
      ]
    },
    {
      "cell_type": "code",
      "metadata": {
        "colab": {
          "base_uri": "https://localhost:8080/"
        },
        "id": "ahTRVhk-YE4I",
        "outputId": "dd91cefc-de42-4f58-f1b6-1fd219b2bceb"
      },
      "source": [
        "l=[]\n",
        "for _ in range(int(input())):l.append(int(input()))\n",
        "l.sort()\n",
        "for i in l:\n",
        "\tprint(i)"
      ],
      "outputs": [
        {
          "output_type": "stream",
          "name": "stdout",
          "text": [
            "5\n",
            "5\n",
            "2\n",
            "3\n",
            "4\n",
            "1\n",
            "1\n",
            "2\n",
            "3\n",
            "4\n",
            "5\n"
          ]
        }
      ],
      "execution_count": 1
    },
    {
      "cell_type": "markdown",
      "metadata": {
        "id": "nJVAFAxZYE4J"
      },
      "source": [
        "### [2587](https://www.acmicpc.net/problem/2587) 대표값2"
      ]
    },
    {
      "cell_type": "code",
      "metadata": {
        "id": "9zrLg2CfYE4K"
      },
      "source": [
        "#PASTE YOUR CODE HERE"
      ],
      "outputs": [],
      "execution_count": null
    },
    {
      "cell_type": "markdown",
      "metadata": {
        "id": "3MI2V1wcYE4K"
      },
      "source": [
        "### [25305](https://www.acmicpc.net/problem/25305) 커트라인"
      ]
    },
    {
      "cell_type": "code",
      "metadata": {
        "id": "96SN-fDAYE4K"
      },
      "source": [
        "#PASTE YOUR CODE HERE"
      ],
      "outputs": [],
      "execution_count": null
    },
    {
      "cell_type": "markdown",
      "metadata": {
        "id": "7GYIe_a6YE4K"
      },
      "source": [
        "### [2751](https://www.acmicpc.net/problem/2751) 수 정렬하기 2"
      ]
    },
    {
      "cell_type": "code",
      "metadata": {
        "colab": {
          "base_uri": "https://localhost:8080/"
        },
        "id": "COX24y2yYE4L",
        "outputId": "2889b222-a02c-465b-d219-01f2f473508b"
      },
      "source": [
        "# import sys\n",
        "# input = sys.stdin.readline\n",
        "num = int(input())\n",
        "l=[]\n",
        "for i in range(num):\n",
        "    l.append(int(input()))\n",
        "\n",
        "l.sort()\n",
        "for i in l:\n",
        "    print(i)"
      ],
      "outputs": [
        {
          "output_type": "stream",
          "name": "stdout",
          "text": [
            "5\n",
            "5\n",
            "2\n",
            "3\n",
            "4\n",
            "1\n",
            "1\n",
            "2\n",
            "3\n",
            "4\n",
            "5\n"
          ]
        }
      ],
      "execution_count": 2
    },
    {
      "cell_type": "markdown",
      "metadata": {
        "id": "8vTZCudJYE4L"
      },
      "source": [
        "### [10989](https://www.acmicpc.net/problem/10989) 수 정렬하기 3"
      ]
    },
    {
      "cell_type": "code",
      "metadata": {
        "colab": {
          "base_uri": "https://localhost:8080/"
        },
        "id": "bJT8nwZAYE4L",
        "outputId": "3a3e5674-c796-49d6-ce7d-ed026f50d8a1"
      },
      "source": [
        "# import sys\n",
        "# input = sys.stdin.readline\n",
        "num = int(input())\n",
        "arr = [0]*10000\n",
        "\n",
        "for i in range(num):\n",
        "    a = int(input())\n",
        "    arr[a-1] += 1\n",
        "    \n",
        "for i in range(10000):\n",
        "    if arr[i] != 0:\n",
        "        for j in range(arr[i]):\n",
        "            print(i+1)"
      ],
      "outputs": [
        {
          "output_type": "stream",
          "name": "stdout",
          "text": [
            "5\n",
            "5\n",
            "2\n",
            "3\n",
            "4\n",
            "1\n",
            "1\n",
            "2\n",
            "3\n",
            "4\n",
            "5\n"
          ]
        }
      ],
      "execution_count": 3
    },
    {
      "cell_type": "markdown",
      "metadata": {
        "id": "_faUBBAxYE4L"
      },
      "source": [
        "### [2108](https://www.acmicpc.net/problem/2108) 통계학"
      ]
    },
    {
      "cell_type": "code",
      "metadata": {
        "colab": {
          "base_uri": "https://localhost:8080/"
        },
        "id": "lJMHwsl4YE4M",
        "outputId": "86c023ef-e9df-49ad-8020-23448b591dac"
      },
      "source": [
        "from collections import Counter\n",
        "a,b,l=5001,-5001,[]\n",
        "for i in range(int(input())):\n",
        "    n=int(input())\n",
        "    if n<a:\n",
        "        a=n\n",
        "    if n>b:\n",
        "        b=n\n",
        "    l.append(n)\n",
        "l.sort()\n",
        "c = Counter(l).most_common()\n",
        "print(round(sum(l)/len(l)))\n",
        "print(l[len(l)//2] if len(l)%2==1 else l[(len(l)-1)//2])\n",
        "print(c[1][0] if len(c)>1 and c[0][1]==c[1][1] else c[0][0])\n",
        "print(b-a)"
      ],
      "outputs": [
        {
          "output_type": "stream",
          "name": "stdout",
          "text": [
            "5\n",
            "1\n",
            "3\n",
            "8\n",
            "-2\n",
            "2\n",
            "2\n",
            "2\n",
            "1\n",
            "10\n"
          ]
        }
      ],
      "execution_count": 4
    },
    {
      "cell_type": "markdown",
      "metadata": {
        "id": "8_OOk1WvYE4M"
      },
      "source": [
        "### [1427](https://www.acmicpc.net/problem/1427) 소트인사이드"
      ]
    },
    {
      "cell_type": "code",
      "metadata": {
        "colab": {
          "base_uri": "https://localhost:8080/"
        },
        "id": "Ceil37kjYE4M",
        "outputId": "26b4ce6d-1452-4b7d-97c8-a392b546931b"
      },
      "source": [
        "k = int(input())\n",
        "l = []\n",
        "while k>0:\n",
        "    l.append(k%10)\n",
        "    k=k//10\n",
        "l.sort(reverse=True)\n",
        "for i in l:\n",
        "\tprint(i,end=\"\")"
      ],
      "outputs": [
        {
          "output_type": "stream",
          "name": "stdout",
          "text": [
            "284719461\n",
            "987644211"
          ]
        }
      ],
      "execution_count": 5
    },
    {
      "cell_type": "markdown",
      "metadata": {
        "id": "D4nRoJxBYE4M"
      },
      "source": [
        "### [11650](https://www.acmicpc.net/problem/11650) 좌표 정렬하기"
      ]
    },
    {
      "cell_type": "code",
      "metadata": {
        "colab": {
          "base_uri": "https://localhost:8080/"
        },
        "id": "LaSodSnKYE4N",
        "outputId": "de7e31e5-6244-4319-8206-0a7412a3dba6"
      },
      "source": [
        "l=[]\n",
        "for _ in range(int(input())):\n",
        "    a,b= map(int,input().split())\n",
        "    l.append((a,b))\n",
        "l.sort(key=lambda x:x[1])\n",
        "l.sort(key=lambda x:x[0])\n",
        "for i in range(len(l)):\n",
        "\tprint(*l[i])"
      ],
      "outputs": [
        {
          "output_type": "stream",
          "name": "stdout",
          "text": [
            "5\n",
            "3 4\n",
            "1 1\n",
            "1 -1\n",
            "2 2\n",
            "3 3\n",
            "1 -1\n",
            "1 1\n",
            "2 2\n",
            "3 3\n",
            "3 4\n"
          ]
        }
      ],
      "execution_count": 6
    },
    {
      "cell_type": "markdown",
      "metadata": {
        "id": "34dB9RBoYE4N"
      },
      "source": [
        "### [11651](https://www.acmicpc.net/problem/11651) 좌표 정렬하기 2"
      ]
    },
    {
      "cell_type": "code",
      "metadata": {
        "colab": {
          "base_uri": "https://localhost:8080/"
        },
        "id": "MsgJwSGWYE4N",
        "outputId": "5e4b9f4f-c0e4-4efd-be54-2126eb29fd3d"
      },
      "source": [
        "l=[]\n",
        "for _ in range(int(input())):\n",
        "    a,b= map(int,input().split())\n",
        "    l.append((a,b))\n",
        "l.sort(key=lambda x:x[0])\n",
        "l.sort(key=lambda x:x[1])\n",
        "for i in range(len(l)):\n",
        "\tprint(*l[i])"
      ],
      "outputs": [
        {
          "output_type": "stream",
          "name": "stdout",
          "text": [
            "5\n",
            "0 4\n",
            "1 2\n",
            "1 -1\n",
            "2 2\n",
            "3 3\n",
            "1 -1\n",
            "1 2\n",
            "2 2\n",
            "3 3\n",
            "0 4\n"
          ]
        }
      ],
      "execution_count": 7
    },
    {
      "cell_type": "markdown",
      "metadata": {
        "id": "5OGYJt2AYE4N"
      },
      "source": [
        "### [1181](https://www.acmicpc.net/problem/1181) 단어 정렬"
      ]
    },
    {
      "cell_type": "code",
      "metadata": {
        "colab": {
          "base_uri": "https://localhost:8080/"
        },
        "id": "JWDYOcibYE4N",
        "outputId": "6a96a45e-0af4-4fa6-9284-d9901d8beb7f"
      },
      "source": [
        "k = int(input())\n",
        "lst=[]\n",
        "for i in range(k):\n",
        "    lst.append(input())\n",
        "lst = list(set(lst))\n",
        "lst.sort()\n",
        "lst.sort(key=len)\n",
        "for i in lst:\n",
        "    print(i)"
      ],
      "outputs": [
        {
          "output_type": "stream",
          "name": "stdout",
          "text": [
            "13\n",
            "paste\n",
            "your\n",
            "code\n",
            "here\n",
            "hello\n",
            "world\n",
            "best\n",
            "in\n",
            "the\n",
            "world\n",
            "42\n",
            "4242\n",
            "~~~~~~~~~\n",
            "42\n",
            "in\n",
            "the\n",
            "4242\n",
            "best\n",
            "code\n",
            "here\n",
            "your\n",
            "hello\n",
            "paste\n",
            "world\n",
            "~~~~~~~~~\n"
          ]
        }
      ],
      "execution_count": 8
    },
    {
      "cell_type": "markdown",
      "metadata": {
        "id": "tjuHyIk2YE4O"
      },
      "source": [
        "### [10814](https://www.acmicpc.net/problem/10814) 나이순 정렬"
      ]
    },
    {
      "cell_type": "code",
      "metadata": {
        "colab": {
          "base_uri": "https://localhost:8080/"
        },
        "id": "MdiirRAIYE4O",
        "outputId": "0aeaf961-58fa-4ceb-d565-6fefe314864f"
      },
      "source": [
        "l=[]\n",
        "for _ in range(int(input())):\n",
        "    a,b= input().split()\n",
        "    a = int(a)\n",
        "    l.append((a,b))\n",
        "l.sort(key=lambda x:x[0])\n",
        "for i in range(len(l)):\n",
        "\tprint(*l[i])"
      ],
      "outputs": [
        {
          "output_type": "stream",
          "name": "stdout",
          "text": [
            "3\n",
            "21 Junkyu\n",
            "21 Dohyun\n",
            "20 Sunyoung\n",
            "20 Sunyoung\n",
            "21 Junkyu\n",
            "21 Dohyun\n"
          ]
        }
      ],
      "execution_count": 9
    },
    {
      "cell_type": "markdown",
      "metadata": {
        "id": "P5agrwXDYE4O"
      },
      "source": [
        "### [18870](https://www.acmicpc.net/problem/18870) 좌표 압축"
      ]
    },
    {
      "cell_type": "code",
      "metadata": {
        "id": "o8_moTTSYE4O"
      },
      "source": [
        "#PASTE YOUR CODE HERE\n",
        "\n"
      ],
      "outputs": [],
      "execution_count": null
    }
  ],
  "metadata": {
    "anaconda-cloud": {},
    "kernelspec": {
      "display_name": "Python 3",
      "language": "python",
      "name": "python3"
    },
    "language_info": {
      "codemirror_mode": {
        "name": "ipython",
        "version": 3
      },
      "file_extension": ".py",
      "mimetype": "text/x-python",
      "name": "python",
      "nbconvert_exporter": "python",
      "pygments_lexer": "ipython3",
      "version": "3.6.1"
    },
    "colab": {
      "provenance": [],
      "include_colab_link": true
    }
  },
  "nbformat": 4,
  "nbformat_minor": 0
}