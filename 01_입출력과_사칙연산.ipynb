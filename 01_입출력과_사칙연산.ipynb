{
  "nbformat": 4,
  "nbformat_minor": 0,
  "metadata": {
    "colab": {
      "provenance": [],
      "toc_visible": true
    },
    "kernelspec": {
      "name": "python3",
      "display_name": "Python 3"
    },
    "language_info": {
      "name": "python"
    }
  },
  "cells": [
    {
      "cell_type": "markdown",
      "source": [
        "# **01** :: 입출력과 사칙연산\n"
      ],
      "metadata": {
        "id": "FzGF7L24yJT4"
      }
    },
    {
      "cell_type": "markdown",
      "source": [
        "*2557 Hello World*\n",
        "\n",
        "---\n",
        "\n"
      ],
      "metadata": {
        "id": "obUad6TC0Q4R"
      }
    },
    {
      "cell_type": "code",
      "source": [
        "print(\"Hello World!\")"
      ],
      "metadata": {
        "colab": {
          "base_uri": "https://localhost:8080/"
        },
        "id": "0QxawGKdyjX0",
        "outputId": "2137a201-00fc-484c-a547-e2bca6404c9e"
      },
      "execution_count": 1,
      "outputs": [
        {
          "output_type": "stream",
          "name": "stdout",
          "text": [
            "Hello World!\n"
          ]
        }
      ]
    },
    {
      "cell_type": "markdown",
      "source": [
        "*1000 A+B*\n",
        "\n",
        "---"
      ],
      "metadata": {
        "id": "wr__IORe0i2h"
      }
    },
    {
      "cell_type": "code",
      "execution_count": 2,
      "metadata": {
        "colab": {
          "base_uri": "https://localhost:8080/"
        },
        "id": "IsmFsY6vvHx_",
        "outputId": "f94cfa75-be14-4aac-a0d6-ba6d9da07790"
      },
      "outputs": [
        {
          "output_type": "stream",
          "name": "stdout",
          "text": [
            "4 2\n",
            "6\n"
          ]
        }
      ],
      "source": [
        "A,B=map(int,input().split())\n",
        "print(A+B)"
      ]
    },
    {
      "cell_type": "markdown",
      "source": [
        "*1001 A-B* \n",
        "\n",
        "---\n"
      ],
      "metadata": {
        "id": "nkJkAR6E0qFC"
      }
    },
    {
      "cell_type": "code",
      "source": [
        "A,B=map(int,input().split())\n",
        "print(A-B)"
      ],
      "metadata": {
        "colab": {
          "base_uri": "https://localhost:8080/"
        },
        "id": "7yZ_GWSK5szq",
        "outputId": "6148a83a-cc07-41e2-ab5c-172ae437d481"
      },
      "execution_count": 5,
      "outputs": [
        {
          "output_type": "stream",
          "name": "stdout",
          "text": [
            "4 2\n",
            "2\n"
          ]
        }
      ]
    },
    {
      "cell_type": "markdown",
      "source": [
        "*10998 A×B*\n",
        "\n",
        "---"
      ],
      "metadata": {
        "id": "GZMMWls60qfI"
      }
    },
    {
      "cell_type": "code",
      "source": [
        "A,B=map(int,input().split())\n",
        "print(A*B)"
      ],
      "metadata": {
        "colab": {
          "base_uri": "https://localhost:8080/"
        },
        "id": "YWjfxnYH0qkx",
        "outputId": "d80bbc79-e632-484a-d8e7-3a7dc8a43739"
      },
      "execution_count": 3,
      "outputs": [
        {
          "output_type": "stream",
          "name": "stdout",
          "text": [
            "4 2\n",
            "8\n"
          ]
        }
      ]
    },
    {
      "cell_type": "markdown",
      "source": [
        "*1008   A/B*\n",
        "\n",
        "---\n",
        "\n"
      ],
      "metadata": {
        "id": "Idx4HfWE0qqZ"
      }
    },
    {
      "cell_type": "code",
      "source": [
        "A,B=map(int,input().split())\n",
        "print(A//B)"
      ],
      "metadata": {
        "colab": {
          "base_uri": "https://localhost:8080/"
        },
        "id": "ep1nYufk0qua",
        "outputId": "44442dd4-cbf2-4420-a0f5-96ee28cb8534"
      },
      "execution_count": 4,
      "outputs": [
        {
          "output_type": "stream",
          "name": "stdout",
          "text": [
            "4 2\n",
            "2\n"
          ]
        }
      ]
    },
    {
      "cell_type": "markdown",
      "source": [
        "*10869\t 사칙연산*\n",
        "\n",
        "---\n",
        "\n"
      ],
      "metadata": {
        "id": "sFaY86qW07e0"
      }
    },
    {
      "cell_type": "code",
      "source": [
        "A,B=map(int,input().split())\n",
        "print(A+B)\n",
        "print(A-B)\n",
        "print(A*B)\n",
        "print(A//B)\n",
        "print(A%B)"
      ],
      "metadata": {
        "colab": {
          "base_uri": "https://localhost:8080/"
        },
        "id": "F_CZIk8C07ns",
        "outputId": "d80d4179-3c5d-43d8-878a-a0c79c33b2f2"
      },
      "execution_count": 6,
      "outputs": [
        {
          "output_type": "stream",
          "name": "stdout",
          "text": [
            "12 3\n",
            "15\n",
            "9\n",
            "36\n",
            "4\n",
            "0\n"
          ]
        }
      ]
    },
    {
      "cell_type": "markdown",
      "source": [
        "*10926\t ??!*\n",
        "\n",
        "---\n",
        "\n"
      ],
      "metadata": {
        "id": "roiqtPP307wk"
      }
    },
    {
      "cell_type": "code",
      "source": [
        "print(input()+\"??!\")"
      ],
      "metadata": {
        "colab": {
          "base_uri": "https://localhost:8080/"
        },
        "id": "lE46Clme07_b",
        "outputId": "fda39d25-f3b7-437f-8ee4-37291ec971ae"
      },
      "execution_count": 7,
      "outputs": [
        {
          "output_type": "stream",
          "name": "stdout",
          "text": [
            "hello\n",
            "hello??!\n"
          ]
        }
      ]
    },
    {
      "cell_type": "markdown",
      "source": [
        "*18108\t 1998년생인 내가 태국에서는 2541년생?!*\n",
        "\n",
        "---\n",
        "\n"
      ],
      "metadata": {
        "id": "9X0HeCvM08Fc"
      }
    },
    {
      "cell_type": "code",
      "source": [
        "print(int(input())-543)"
      ],
      "metadata": {
        "colab": {
          "base_uri": "https://localhost:8080/"
        },
        "id": "gxhL0hVk08Kn",
        "outputId": "c0c27f99-5185-467d-ca79-9747320c8cfa"
      },
      "execution_count": 8,
      "outputs": [
        {
          "output_type": "stream",
          "name": "stdout",
          "text": [
            "2541\n",
            "1998\n"
          ]
        }
      ]
    },
    {
      "cell_type": "markdown",
      "source": [
        "*3003\t 킹, 퀸, 룩, 비숍, 나이트, 폰*\n",
        "\n",
        "---\n",
        "\n"
      ],
      "metadata": {
        "id": "bHOw_C6_08Q0"
      }
    },
    {
      "cell_type": "code",
      "source": [
        "l=[1,1,2,2,2,8]\n",
        "k=input().split()\n",
        "for i in range(len(k)):\n",
        "\tprint(l[i]-int(k[i]),end=\" \")"
      ],
      "metadata": {
        "colab": {
          "base_uri": "https://localhost:8080/"
        },
        "id": "C8HyG5P-08X8",
        "outputId": "f9b13d35-913a-4354-ef24-44b82b2bd9a1"
      },
      "execution_count": 9,
      "outputs": [
        {
          "output_type": "stream",
          "name": "stdout",
          "text": [
            "0 1 2 2 2 7\n",
            "1 0 0 0 0 1 "
          ]
        }
      ]
    },
    {
      "cell_type": "markdown",
      "source": [
        "*10430\t 나머지*\n",
        "\n",
        "---\n",
        "\n"
      ],
      "metadata": {
        "id": "iYbBYrtV08d0"
      }
    },
    {
      "cell_type": "code",
      "source": [
        "A,B,C =map(int,input().split())\n",
        "print((A+B)%C,((A%C)+(B%C))%C,(A*B)%C,((A%C)*(B%C))%C,sep='\\n') "
      ],
      "metadata": {
        "colab": {
          "base_uri": "https://localhost:8080/"
        },
        "id": "oBrq6odY08mc",
        "outputId": "fcb813a3-4350-4885-953b-d01712f67a6e"
      },
      "execution_count": 10,
      "outputs": [
        {
          "output_type": "stream",
          "name": "stdout",
          "text": [
            "5 8 4\n",
            "1\n",
            "1\n",
            "0\n",
            "0\n"
          ]
        }
      ]
    },
    {
      "cell_type": "markdown",
      "source": [
        "*2588\t 곱셈*\n",
        "\n",
        "---\n",
        "\n"
      ],
      "metadata": {
        "id": "DsgfD4Yd08zr"
      }
    },
    {
      "cell_type": "code",
      "source": [
        "a = int(input())\n",
        "b = input()\n",
        "print(a*int(b[2]),a*int(b[1]),a*int(b[0]),a*int(b),sep = '\\n')"
      ],
      "metadata": {
        "colab": {
          "base_uri": "https://localhost:8080/"
        },
        "id": "7sk1HcIm3WkA",
        "outputId": "a9f83ef5-b9f4-442b-cc79-82c3eb24e6d6"
      },
      "execution_count": 12,
      "outputs": [
        {
          "output_type": "stream",
          "name": "stdout",
          "text": [
            "472\n",
            "385\n",
            "2360\n",
            "3776\n",
            "1416\n",
            "181720\n"
          ]
        }
      ]
    },
    {
      "cell_type": "markdown",
      "source": [
        "*10171\t 고양이*\n",
        "\n",
        "---\n",
        "\n"
      ],
      "metadata": {
        "id": "ToGDmeM_3XHf"
      }
    },
    {
      "cell_type": "code",
      "source": [
        "print(\"\\\\    /\\\\\")\n",
        "print(\" )  ( ')\")\n",
        "print(\"(  /  )\")\n",
        "print(\" \\\\(__)|\")"
      ],
      "metadata": {
        "colab": {
          "base_uri": "https://localhost:8080/"
        },
        "id": "JWA2XTov3XOu",
        "outputId": "8dd82e35-f204-4426-ceea-ff2edae142a4"
      },
      "execution_count": 13,
      "outputs": [
        {
          "output_type": "stream",
          "name": "stdout",
          "text": [
            "\\    /\\\n",
            " )  ( ')\n",
            "(  /  )\n",
            " \\(__)|\n"
          ]
        }
      ]
    },
    {
      "cell_type": "markdown",
      "source": [
        "*10172\t 개*\n",
        "\n",
        "\n",
        "---\n",
        "\n"
      ],
      "metadata": {
        "id": "c-7Fw7Y63XUu"
      }
    },
    {
      "cell_type": "code",
      "source": [
        "print(\"|\\_/|\")\n",
        "print(\"|q p|   /}\")\n",
        "print(\"( 0 )\\\"\\\"\\\"\\\\\")\n",
        "print(\"|\\\"^\\\"`    |\")\n",
        "print(\"||_/=\\\\\\__|\")"
      ],
      "metadata": {
        "colab": {
          "base_uri": "https://localhost:8080/"
        },
        "id": "xEz-emPn3Xau",
        "outputId": "57bb10b7-aa60-43b8-e2b6-4544d36bd0ee"
      },
      "execution_count": 14,
      "outputs": [
        {
          "output_type": "stream",
          "name": "stdout",
          "text": [
            "|\\_/|\n",
            "|q p|   /}\n",
            "( 0 )\"\"\"\\\n",
            "|\"^\"`    |\n",
            "||_/=\\\\__|\n"
          ]
        }
      ]
    },
    {
      "cell_type": "markdown",
      "source": [
        "*25083\t 새싹*\n",
        "\n",
        "---\n",
        "\n"
      ],
      "metadata": {
        "id": "MxsXdVzk3XkO"
      }
    },
    {
      "cell_type": "code",
      "source": [
        "print(\"         ,r'\\\"7\")\n",
        "print(\"r`-_   ,'  ,/\")\n",
        "print(\" \\\\. \\\". L_r'\")\n",
        "print(\"   `~\\\\/\")\n",
        "print(\"      |\")\n",
        "print(\"      |\")"
      ],
      "metadata": {
        "id": "HBzC1s__3XoQ"
      },
      "execution_count": null,
      "outputs": []
    }
  ]
}