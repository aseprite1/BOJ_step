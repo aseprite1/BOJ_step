{
  "nbformat": 4,
  "nbformat_minor": 0,
  "metadata": {
    "colab": {
      "provenance": [],
      "toc_visible": true,
      "authorship_tag": "ABX9TyPk+i6pCl9j3UTGyOPudRhw",
      "include_colab_link": true
    },
    "kernelspec": {
      "name": "python3",
      "display_name": "Python 3"
    },
    "language_info": {
      "name": "python"
    }
  },
  "cells": [
    {
      "cell_type": "markdown",
      "metadata": {
        "id": "view-in-github",
        "colab_type": "text"
      },
      "source": [
        "<a href=\"https://colab.research.google.com/github/aseprite1/BOJ_step/blob/main/01_%EC%9E%85%EC%B6%9C%EB%A0%A5%EA%B3%BC_%EC%82%AC%EC%B9%99%EC%97%B0%EC%82%B0.ipynb\" target=\"_parent\"><img src=\"https://colab.research.google.com/assets/colab-badge.svg\" alt=\"Open In Colab\"/></a>"
      ]
    },
    {
      "cell_type": "markdown",
      "source": [
        "# **01** :: 입출력과 사칙연산\n"
      ],
      "metadata": {
        "id": "FzGF7L24yJT4"
      }
    },
    {
      "cell_type": "markdown",
      "source": [
        "### *2557 Hello World*"
      ],
      "metadata": {
        "id": "obUad6TC0Q4R"
      }
    },
    {
      "cell_type": "code",
      "source": [
        "print(\"Hello World!\")"
      ],
      "metadata": {
        "colab": {
          "base_uri": "https://localhost:8080/"
        },
        "id": "0QxawGKdyjX0",
        "outputId": "6b0bfde5-b2cb-46ba-f503-73236876f348"
      },
      "execution_count": 17,
      "outputs": [
        {
          "output_type": "stream",
          "name": "stdout",
          "text": [
            "Hello World!\n"
          ]
        }
      ]
    },
    {
      "cell_type": "markdown",
      "source": [
        "###*1000 A+B*"
      ],
      "metadata": {
        "id": "wr__IORe0i2h"
      }
    },
    {
      "cell_type": "code",
      "execution_count": 18,
      "metadata": {
        "colab": {
          "base_uri": "https://localhost:8080/"
        },
        "id": "IsmFsY6vvHx_",
        "outputId": "9ad5a21c-8d14-415a-e093-8a63c469818d"
      },
      "outputs": [
        {
          "output_type": "stream",
          "name": "stdout",
          "text": [
            "12 4\n",
            "16\n"
          ]
        }
      ],
      "source": [
        "A,B=map(int,input().split())\n",
        "print(A+B)"
      ]
    },
    {
      "cell_type": "markdown",
      "source": [
        "###*1001 A-B* \n",
        "\n"
      ],
      "metadata": {
        "id": "nkJkAR6E0qFC"
      }
    },
    {
      "cell_type": "code",
      "source": [
        "A,B=map(int,input().split())\n",
        "print(A-B)"
      ],
      "metadata": {
        "colab": {
          "base_uri": "https://localhost:8080/"
        },
        "id": "7yZ_GWSK5szq",
        "outputId": "e37a5074-e63d-4de3-c53d-4ec816d7cdee"
      },
      "execution_count": 19,
      "outputs": [
        {
          "output_type": "stream",
          "name": "stdout",
          "text": [
            "12 4\n",
            "8\n"
          ]
        }
      ]
    },
    {
      "cell_type": "markdown",
      "source": [
        "###*10998 A×B*\n"
      ],
      "metadata": {
        "id": "GZMMWls60qfI"
      }
    },
    {
      "cell_type": "code",
      "source": [
        "A,B=map(int,input().split())\n",
        "print(A*B)"
      ],
      "metadata": {
        "colab": {
          "base_uri": "https://localhost:8080/"
        },
        "id": "YWjfxnYH0qkx",
        "outputId": "b277f446-415b-48f2-a3a9-294b90901498"
      },
      "execution_count": 20,
      "outputs": [
        {
          "output_type": "stream",
          "name": "stdout",
          "text": [
            "12 4\n",
            "48\n"
          ]
        }
      ]
    },
    {
      "cell_type": "markdown",
      "source": [
        "###*1008   A/B*\n",
        "\n",
        "\n"
      ],
      "metadata": {
        "id": "Idx4HfWE0qqZ"
      }
    },
    {
      "cell_type": "code",
      "source": [
        "A,B=map(int,input().split())\n",
        "print(A//B)"
      ],
      "metadata": {
        "colab": {
          "base_uri": "https://localhost:8080/"
        },
        "id": "ep1nYufk0qua",
        "outputId": "df347228-e57d-440d-9e27-c4bba98293b5"
      },
      "execution_count": 21,
      "outputs": [
        {
          "output_type": "stream",
          "name": "stdout",
          "text": [
            "12 4\n",
            "3\n"
          ]
        }
      ]
    },
    {
      "cell_type": "markdown",
      "source": [
        "###*10869\t 사칙연산*\n",
        "\n"
      ],
      "metadata": {
        "id": "sFaY86qW07e0"
      }
    },
    {
      "cell_type": "code",
      "source": [
        "A,B=map(int,input().split())\n",
        "print(A+B)\n",
        "print(A-B)\n",
        "print(A*B)\n",
        "print(A//B)\n",
        "print(A%B)"
      ],
      "metadata": {
        "colab": {
          "base_uri": "https://localhost:8080/"
        },
        "id": "F_CZIk8C07ns",
        "outputId": "0480d6d2-27ae-46f2-9c8b-c41c88c65a6f"
      },
      "execution_count": 22,
      "outputs": [
        {
          "output_type": "stream",
          "name": "stdout",
          "text": [
            "12 4\n",
            "16\n",
            "8\n",
            "48\n",
            "3\n",
            "0\n"
          ]
        }
      ]
    },
    {
      "cell_type": "markdown",
      "source": [
        "###*10926\t ??!*\n",
        "\n"
      ],
      "metadata": {
        "id": "roiqtPP307wk"
      }
    },
    {
      "cell_type": "code",
      "source": [
        "print(input()+\"??!\")"
      ],
      "metadata": {
        "colab": {
          "base_uri": "https://localhost:8080/"
        },
        "id": "lE46Clme07_b",
        "outputId": "657404e7-192a-4c45-c4fe-3c26bd26ef92"
      },
      "execution_count": 23,
      "outputs": [
        {
          "output_type": "stream",
          "name": "stdout",
          "text": [
            "hello\n",
            "hello??!\n"
          ]
        }
      ]
    },
    {
      "cell_type": "markdown",
      "source": [
        "###*18108\t 1998년생인 내가 태국에서는 2541년생?!*\n",
        "\n"
      ],
      "metadata": {
        "id": "9X0HeCvM08Fc"
      }
    },
    {
      "cell_type": "code",
      "source": [
        "print(int(input())-543)"
      ],
      "metadata": {
        "colab": {
          "base_uri": "https://localhost:8080/"
        },
        "id": "gxhL0hVk08Kn",
        "outputId": "2f16eb83-e77d-4aec-c8d4-f6241af98b7b"
      },
      "execution_count": 24,
      "outputs": [
        {
          "output_type": "stream",
          "name": "stdout",
          "text": [
            "2541\n",
            "1998\n"
          ]
        }
      ]
    },
    {
      "cell_type": "markdown",
      "source": [
        "###*3003\t 킹, 퀸, 룩, 비숍, 나이트, 폰*\n",
        "\n",
        "\n"
      ],
      "metadata": {
        "id": "bHOw_C6_08Q0"
      }
    },
    {
      "cell_type": "code",
      "source": [
        "l=[1,1,2,2,2,8]\n",
        "k=input().split()\n",
        "for i in range(len(k)):\n",
        "\tprint(l[i]-int(k[i]),end=\" \")"
      ],
      "metadata": {
        "colab": {
          "base_uri": "https://localhost:8080/"
        },
        "id": "C8HyG5P-08X8",
        "outputId": "0305d606-34ba-41aa-cc3d-b04809091480"
      },
      "execution_count": 25,
      "outputs": [
        {
          "output_type": "stream",
          "name": "stdout",
          "text": [
            "0 1 2 1 0 4\n",
            "1 0 0 1 2 4 "
          ]
        }
      ]
    },
    {
      "cell_type": "markdown",
      "source": [
        "###*10430\t 나머지*\n",
        "\n",
        "\n"
      ],
      "metadata": {
        "id": "iYbBYrtV08d0"
      }
    },
    {
      "cell_type": "code",
      "source": [
        "A,B,C =map(int,input().split())\n",
        "print((A+B)%C,((A%C)+(B%C))%C,(A*B)%C,((A%C)*(B%C))%C,sep='\\n') "
      ],
      "metadata": {
        "colab": {
          "base_uri": "https://localhost:8080/"
        },
        "id": "oBrq6odY08mc",
        "outputId": "dfd2ee78-6a29-431f-e32f-6eda29708a1c"
      },
      "execution_count": 26,
      "outputs": [
        {
          "output_type": "stream",
          "name": "stdout",
          "text": [
            "5 6 7\n",
            "4\n",
            "4\n",
            "2\n",
            "2\n"
          ]
        }
      ]
    },
    {
      "cell_type": "markdown",
      "source": [
        "###*2588\t 곱셈*\n"
      ],
      "metadata": {
        "id": "DsgfD4Yd08zr"
      }
    },
    {
      "cell_type": "code",
      "source": [
        "a = int(input())\n",
        "b = input()\n",
        "print(a*int(b[2]),a*int(b[1]),a*int(b[0]),a*int(b),sep = '\\n')"
      ],
      "metadata": {
        "colab": {
          "base_uri": "https://localhost:8080/"
        },
        "id": "7sk1HcIm3WkA",
        "outputId": "71a5fb98-e7f1-4e16-96f9-90398392d973"
      },
      "execution_count": 27,
      "outputs": [
        {
          "output_type": "stream",
          "name": "stdout",
          "text": [
            "1234\n",
            "5678\n",
            "8638\n",
            "7404\n",
            "6170\n",
            "7006652\n"
          ]
        }
      ]
    },
    {
      "cell_type": "markdown",
      "source": [
        "###*10171\t 고양이*\n"
      ],
      "metadata": {
        "id": "ToGDmeM_3XHf"
      }
    },
    {
      "cell_type": "code",
      "source": [
        "print(\"\\\\    /\\\\\")\n",
        "print(\" )  ( ')\")\n",
        "print(\"(  /  )\")\n",
        "print(\" \\\\(__)|\")"
      ],
      "metadata": {
        "colab": {
          "base_uri": "https://localhost:8080/"
        },
        "id": "JWA2XTov3XOu",
        "outputId": "fb3950d5-6fe3-4f2c-df05-8b5fda3cc500"
      },
      "execution_count": 28,
      "outputs": [
        {
          "output_type": "stream",
          "name": "stdout",
          "text": [
            "\\    /\\\n",
            " )  ( ')\n",
            "(  /  )\n",
            " \\(__)|\n"
          ]
        }
      ]
    },
    {
      "cell_type": "markdown",
      "source": [
        "###*10172\t 개*\n",
        "\n"
      ],
      "metadata": {
        "id": "c-7Fw7Y63XUu"
      }
    },
    {
      "cell_type": "code",
      "source": [
        "print(\"|\\_/|\")\n",
        "print(\"|q p|   /}\")\n",
        "print(\"( 0 )\\\"\\\"\\\"\\\\\")\n",
        "print(\"|\\\"^\\\"`    |\")\n",
        "print(\"||_/=\\\\\\__|\")"
      ],
      "metadata": {
        "colab": {
          "base_uri": "https://localhost:8080/"
        },
        "id": "xEz-emPn3Xau",
        "outputId": "51b51e44-8941-4d71-e046-7191b57cf042"
      },
      "execution_count": 29,
      "outputs": [
        {
          "output_type": "stream",
          "name": "stdout",
          "text": [
            "|\\_/|\n",
            "|q p|   /}\n",
            "( 0 )\"\"\"\\\n",
            "|\"^\"`    |\n",
            "||_/=\\\\__|\n"
          ]
        }
      ]
    },
    {
      "cell_type": "markdown",
      "source": [
        "###*25083\t 새싹*\n",
        "\n",
        "\n"
      ],
      "metadata": {
        "id": "MxsXdVzk3XkO"
      }
    },
    {
      "cell_type": "code",
      "source": [
        "print(\"         ,r'\\\"7\")\n",
        "print(\"r`-_   ,'  ,/\")\n",
        "print(\" \\\\. \\\". L_r'\")\n",
        "print(\"   `~\\\\/\")\n",
        "print(\"      |\")\n",
        "print(\"      |\")"
      ],
      "metadata": {
        "colab": {
          "base_uri": "https://localhost:8080/"
        },
        "id": "HBzC1s__3XoQ",
        "outputId": "2b1e2d62-5fef-4ae5-f48e-3c55fb3cf891"
      },
      "execution_count": 30,
      "outputs": [
        {
          "output_type": "stream",
          "name": "stdout",
          "text": [
            "         ,r'\"7\n",
            "r`-_   ,'  ,/\n",
            " \\. \". L_r'\n",
            "   `~\\/\n",
            "      |\n",
            "      |\n"
          ]
        }
      ]
    }
  ]
}