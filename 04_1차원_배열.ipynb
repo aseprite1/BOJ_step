{
  "cells": [
    {
      "cell_type": "markdown",
      "metadata": {
        "id": "view-in-github",
        "colab_type": "text"
      },
      "source": [
        "<a href=\"https://colab.research.google.com/github/aseprite1/BOJ_step/blob/main/04_1%EC%B0%A8%EC%9B%90_%EB%B0%B0%EC%97%B4.ipynb\" target=\"_parent\"><img src=\"https://colab.research.google.com/assets/colab-badge.svg\" alt=\"Open In Colab\"/></a>"
      ]
    },
    {
      "cell_type": "markdown",
      "metadata": {
        "id": "Rop9VBsRwHu3"
      },
      "source": [
        "# **[04](https://www.acmicpc.net/step/6)** :: 1차원 배열"
      ]
    },
    {
      "cell_type": "markdown",
      "metadata": {
        "id": "kuliQq-5wHu5"
      },
      "source": [
        "### [10807](https://www.acmicpc.net/problem/10807) 개수 세기"
      ]
    },
    {
      "cell_type": "code",
      "execution_count": 1,
      "metadata": {
        "colab": {
          "base_uri": "https://localhost:8080/"
        },
        "id": "_gHrlrj4wHu5",
        "outputId": "4ec1ed45-dbd9-4cc4-9ed7-88db9e5cd328"
      },
      "outputs": [
        {
          "output_type": "stream",
          "name": "stdout",
          "text": [
            "11\n",
            "1 4 1 2 4 2 4 2 3 4 4\n",
            "2\n",
            "3\n"
          ]
        }
      ],
      "source": [
        "input()\n",
        "l = list(map(int,input().split()))\n",
        "k = int(input())\n",
        "n=0\n",
        "for i in l:\n",
        "    if i==k:\n",
        "        n+=1\n",
        "print(n)"
      ]
    },
    {
      "cell_type": "markdown",
      "metadata": {
        "id": "ViOGCWmXwHu6"
      },
      "source": [
        "### [10871](https://www.acmicpc.net/problem/10871) X보다 작은 수"
      ]
    },
    {
      "cell_type": "code",
      "execution_count": 2,
      "metadata": {
        "colab": {
          "base_uri": "https://localhost:8080/"
        },
        "id": "XC9NfODpwHu7",
        "outputId": "573c9b92-0305-45cd-9fb0-8421b986f5ff"
      },
      "outputs": [
        {
          "output_type": "stream",
          "name": "stdout",
          "text": [
            "4 6\n",
            "1 2 3 4 5 6\n",
            "1 2 3 4 5 "
          ]
        }
      ],
      "source": [
        "n, x = map(int, input().split())\n",
        "lst = list(map(int,input().split()))\n",
        "for i in lst:\n",
        "    if i<x:\n",
        "        print(i,end=\" \")"
      ]
    },
    {
      "cell_type": "markdown",
      "metadata": {
        "id": "O4mI-ni1wHu7"
      },
      "source": [
        "### [10818](https://www.acmicpc.net/problem/10818) 최소, 최대"
      ]
    },
    {
      "cell_type": "code",
      "execution_count": 3,
      "metadata": {
        "colab": {
          "base_uri": "https://localhost:8080/"
        },
        "id": "46xYUfLFwHu7",
        "outputId": "3deae5c5-cd60-4764-c8e1-1ffb674480f0"
      },
      "outputs": [
        {
          "output_type": "stream",
          "name": "stdout",
          "text": [
            "5\n",
            "20 10 35 30 7\n",
            "7 35\n"
          ]
        }
      ],
      "source": [
        "n = input()\n",
        "lst =list(map(int,input().split()))\n",
        "print(min(lst),max(lst))"
      ]
    },
    {
      "cell_type": "markdown",
      "metadata": {
        "id": "3BrZktPMwHu7"
      },
      "source": [
        "### [2562](https://www.acmicpc.net/problem/2562) 최댓값"
      ]
    },
    {
      "cell_type": "code",
      "execution_count": 4,
      "metadata": {
        "colab": {
          "base_uri": "https://localhost:8080/"
        },
        "id": "L_UTMWRjwHu8",
        "outputId": "26722376-2245-4272-8d0a-9583910fdf6f"
      },
      "outputs": [
        {
          "output_type": "stream",
          "name": "stdout",
          "text": [
            "3\n",
            "29\n",
            "38\n",
            "12\n",
            "57\n",
            "74\n",
            "40\n",
            "85\n",
            "61\n",
            "85\n",
            "8\n"
          ]
        }
      ],
      "source": [
        "l = []\n",
        "for i in range(9):\n",
        "    l.append(int(input()))\n",
        "print(max(list),l.index(max(l))+1,sep=\"\\n\")"
      ]
    },
    {
      "cell_type": "markdown",
      "metadata": {
        "id": "HMgLUxCMwHu8"
      },
      "source": [
        "### [5597](https://www.acmicpc.net/problem/5597) 과제 안 내신 분..?"
      ]
    },
    {
      "cell_type": "code",
      "execution_count": 5,
      "metadata": {
        "colab": {
          "base_uri": "https://localhost:8080/"
        },
        "id": "aCfOwa5SwHu8",
        "outputId": "4f575317-646a-4b4b-80c2-81e98aed7554"
      },
      "outputs": [
        {
          "output_type": "stream",
          "name": "stdout",
          "text": [
            "3\n",
            "1\n",
            "4\n",
            "5\n",
            "7\n",
            "9\n",
            "6\n",
            "10\n",
            "11\n",
            "12\n",
            "13\n",
            "14\n",
            "15\n",
            "16\n",
            "17\n",
            "18\n",
            "19\n",
            "20\n",
            "21\n",
            "22\n",
            "23\n",
            "24\n",
            "25\n",
            "26\n",
            "27\n",
            "28\n",
            "29\n",
            "30\n",
            "2\n",
            "8\n"
          ]
        }
      ],
      "source": [
        "l =[]\n",
        "for i in range(28):\n",
        "    l.append(int(input()))\n",
        "for i in range (1,31):\n",
        "    if i not in l:\n",
        "        print(i)"
      ]
    },
    {
      "cell_type": "markdown",
      "metadata": {
        "id": "tv724VyEwHu9"
      },
      "source": [
        "### [3052](https://www.acmicpc.net/problem/3052) 나머지"
      ]
    },
    {
      "cell_type": "code",
      "execution_count": 6,
      "metadata": {
        "colab": {
          "base_uri": "https://localhost:8080/"
        },
        "id": "qEh83WPBwHu9",
        "outputId": "eec49b1c-622d-466b-a61c-54cff6d1d13e"
      },
      "outputs": [
        {
          "output_type": "stream",
          "name": "stdout",
          "text": [
            "42\n",
            "84\n",
            "252\n",
            "420\n",
            "840\n",
            "126\n",
            "42\n",
            "84\n",
            "430\n",
            "126\n",
            "2\n"
          ]
        }
      ],
      "source": [
        "lst=[]\n",
        "for _ in range(10):\n",
        "    k = int(input()) % 42\n",
        "    if k not in lst:\n",
        "        lst.append(k%42)\n",
        "print(len(lst))"
      ]
    },
    {
      "cell_type": "markdown",
      "metadata": {
        "id": "Y5xSQv7ewHu9"
      },
      "source": [
        "### [1546](https://www.acmicpc.net/problem/1546) 평균"
      ]
    },
    {
      "cell_type": "code",
      "execution_count": null,
      "metadata": {
        "id": "gRNItl3YwHu9"
      },
      "outputs": [],
      "source": [
        "n = int(input())\n",
        "test_list = list(map(int, input().split()))\n",
        "max_score = max(test_list)\n",
        "\n",
        "new_list = []\n",
        "for score in test_list :\n",
        "    new_list.append(score/max_score *100)\n",
        "test_avg = sum(new_list)/n\n",
        "print(test_avg)"
      ]
    },
    {
      "cell_type": "markdown",
      "metadata": {
        "id": "vP8190NWwHu-"
      },
      "source": [
        "### [8958](https://www.acmicpc.net/problem/8958) OX퀴즈"
      ]
    },
    {
      "cell_type": "code",
      "execution_count": null,
      "metadata": {
        "id": "gQbOqN1MwHu-"
      },
      "outputs": [],
      "source": [
        "k = int(input())\n",
        "n = 0\n",
        "answer = 0\n",
        "for i in range(k):\n",
        "    str = input()\n",
        "    for j in str:\n",
        "        if j=='O':\n",
        "            n+=1\n",
        "            answer+=n\n",
        "        if j=='X':\n",
        "            n=0\n",
        "    print(answer)\n",
        "    answer = 0\n",
        "    n  = 0"
      ]
    },
    {
      "cell_type": "markdown",
      "metadata": {
        "id": "9nvqxwkOwHu-"
      },
      "source": [
        "### [4344](https://www.acmicpc.net/problem/4344) 평균은 넘겠지"
      ]
    },
    {
      "cell_type": "code",
      "execution_count": null,
      "metadata": {
        "id": "-Ly9Z2tswHu-"
      },
      "outputs": [],
      "source": [
        "k = int(input())\n",
        "ans=[]\n",
        "for _ in range(k):\n",
        "\tn=0\n",
        "\tcnt=0\n",
        "\tl=list(map(int,input().split()))\n",
        "\tp = l[0]\n",
        "\tavg = (sum(l)-p)/p\n",
        "\tfor i in range(p):\n",
        "\t\tif l[i+1] > avg:\n",
        "\t\t\tcnt+=1\n",
        "\tans.append(f\"{cnt/p*100:.3f}\"+\"%\")\n",
        "for i in ans:\n",
        "\tprint(i)"
      ]
    }
  ],
  "metadata": {
    "anaconda-cloud": {},
    "interpreter": {
      "hash": "31f2aee4e71d21fbe5cf8b01ff0e069b9275f58929596ceb00d14d90e3e16cd6"
    },
    "kernelspec": {
      "display_name": "Python 3.8.2 64-bit",
      "language": "python",
      "name": "python3"
    },
    "language_info": {
      "codemirror_mode": {
        "name": "ipython",
        "version": 3
      },
      "file_extension": ".py",
      "mimetype": "text/x-python",
      "name": "python",
      "nbconvert_exporter": "python",
      "pygments_lexer": "ipython3",
      "version": "3.8.2"
    },
    "colab": {
      "provenance": [],
      "toc_visible": true,
      "include_colab_link": true
    }
  },
  "nbformat": 4,
  "nbformat_minor": 0
}